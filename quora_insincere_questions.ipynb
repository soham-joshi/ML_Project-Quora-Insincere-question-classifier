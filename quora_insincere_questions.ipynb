{
 "cells": [
  {
   "cell_type": "code",
   "execution_count": 106,
   "metadata": {
    "colab": {
     "base_uri": "https://localhost:8080/",
     "height": 272
    },
    "id": "X2I6W2qpX0YK",
    "outputId": "feef3734-6365-4ac2-ffff-c7ff637f0264"
   },
   "outputs": [
    {
     "name": "stdout",
     "output_type": "stream",
     "text": [
      "Requirement already satisfied: imblearn in c:\\users\\sowmi\\miniconda3\\envs\\myenv\\lib\\site-packages (0.0)\n",
      "Requirement already satisfied: imbalanced-learn in c:\\users\\sowmi\\miniconda3\\envs\\myenv\\lib\\site-packages (from imblearn) (0.7.0)\n",
      "Requirement already satisfied: numpy>=1.13.3 in c:\\users\\sowmi\\miniconda3\\envs\\myenv\\lib\\site-packages (from imbalanced-learn->imblearn) (1.19.1)\n",
      "Requirement already satisfied: scipy>=0.19.1 in c:\\users\\sowmi\\miniconda3\\envs\\myenv\\lib\\site-packages (from imbalanced-learn->imblearn) (1.5.2)\n",
      "Requirement already satisfied: joblib>=0.11 in c:\\users\\sowmi\\miniconda3\\envs\\myenv\\lib\\site-packages (from imbalanced-learn->imblearn) (0.17.0)\n",
      "Requirement already satisfied: scikit-learn>=0.23 in c:\\users\\sowmi\\miniconda3\\envs\\myenv\\lib\\site-packages (from imbalanced-learn->imblearn) (0.23.2)\n",
      "Requirement already satisfied: threadpoolctl>=2.0.0 in c:\\users\\sowmi\\miniconda3\\envs\\myenv\\lib\\site-packages (from scikit-learn>=0.23->imbalanced-learn->imblearn) (2.1.0)\n"
     ]
    }
   ],
   "source": [
    "import numpy as np\n",
    "import pandas as pd\n",
    "import statistics\n",
    "import nltk\n",
    "from nltk.corpus import stopwords\n",
    "from nltk.stem import PorterStemmer\n",
    "# from pattern.en import spelling\n",
    "from sklearn.ensemble import RandomForestClassifier\n",
    "from sklearn.utils import resample\n",
    "from pandas import DataFrame\n",
    "!pip3 install imblearn\n",
    "from imblearn.over_sampling import SMOTE\n",
    "from sklearn.linear_model import SGDClassifier"
   ]
  },
  {
   "cell_type": "code",
   "execution_count": 107,
   "metadata": {
    "colab": {
     "base_uri": "https://localhost:8080/",
     "height": 195
    },
    "id": "NlCCav6OX0YY",
    "outputId": "a487e0a1-69a8-4617-e429-5844f0dac98c"
   },
   "outputs": [
    {
     "data": {
      "text/html": [
       "<div>\n",
       "<style scoped>\n",
       "    .dataframe tbody tr th:only-of-type {\n",
       "        vertical-align: middle;\n",
       "    }\n",
       "\n",
       "    .dataframe tbody tr th {\n",
       "        vertical-align: top;\n",
       "    }\n",
       "\n",
       "    .dataframe thead th {\n",
       "        text-align: right;\n",
       "    }\n",
       "</style>\n",
       "<table border=\"1\" class=\"dataframe\">\n",
       "  <thead>\n",
       "    <tr style=\"text-align: right;\">\n",
       "      <th></th>\n",
       "      <th>qid</th>\n",
       "      <th>question_text</th>\n",
       "      <th>target</th>\n",
       "    </tr>\n",
       "  </thead>\n",
       "  <tbody>\n",
       "    <tr>\n",
       "      <th>0</th>\n",
       "      <td>6f47b0f60633c2056455</td>\n",
       "      <td>How can I reply to this comment, \"India is poo...</td>\n",
       "      <td>0</td>\n",
       "    </tr>\n",
       "    <tr>\n",
       "      <th>1</th>\n",
       "      <td>d49b3966070b27bf07fc</td>\n",
       "      <td>What did they use for transportation in Ancien...</td>\n",
       "      <td>0</td>\n",
       "    </tr>\n",
       "    <tr>\n",
       "      <th>2</th>\n",
       "      <td>6d5faa49380557c8ca7b</td>\n",
       "      <td>What are the most important provisions of Obam...</td>\n",
       "      <td>0</td>\n",
       "    </tr>\n",
       "    <tr>\n",
       "      <th>3</th>\n",
       "      <td>cebea75faa47388edcf5</td>\n",
       "      <td>At what age do most Finns master English today?</td>\n",
       "      <td>0</td>\n",
       "    </tr>\n",
       "    <tr>\n",
       "      <th>4</th>\n",
       "      <td>2a7b76a679cadb0a016e</td>\n",
       "      <td>What is cheapest place to live in India for on...</td>\n",
       "      <td>0</td>\n",
       "    </tr>\n",
       "  </tbody>\n",
       "</table>\n",
       "</div>"
      ],
      "text/plain": [
       "                    qid                                      question_text  \\\n",
       "0  6f47b0f60633c2056455  How can I reply to this comment, \"India is poo...   \n",
       "1  d49b3966070b27bf07fc  What did they use for transportation in Ancien...   \n",
       "2  6d5faa49380557c8ca7b  What are the most important provisions of Obam...   \n",
       "3  cebea75faa47388edcf5    At what age do most Finns master English today?   \n",
       "4  2a7b76a679cadb0a016e  What is cheapest place to live in India for on...   \n",
       "\n",
       "   target  \n",
       "0       0  \n",
       "1       0  \n",
       "2       0  \n",
       "3       0  \n",
       "4       0  "
      ]
     },
     "execution_count": 107,
     "metadata": {},
     "output_type": "execute_result"
    }
   ],
   "source": [
    "train_col_names = ['qid', 'question_text', 'target']\n",
    "train_data = pd.read_csv('train.csv', names=train_col_names, skiprows=1)\n",
    "train_data.head()"
   ]
  },
  {
   "cell_type": "code",
   "execution_count": 108,
   "metadata": {
    "colab": {
     "base_uri": "https://localhost:8080/",
     "height": 195
    },
    "id": "k9HDQpt_X0Yo",
    "outputId": "e47f917b-3c6b-4572-a019-f4679220e9b3"
   },
   "outputs": [
    {
     "data": {
      "text/html": [
       "<div>\n",
       "<style scoped>\n",
       "    .dataframe tbody tr th:only-of-type {\n",
       "        vertical-align: middle;\n",
       "    }\n",
       "\n",
       "    .dataframe tbody tr th {\n",
       "        vertical-align: top;\n",
       "    }\n",
       "\n",
       "    .dataframe thead th {\n",
       "        text-align: right;\n",
       "    }\n",
       "</style>\n",
       "<table border=\"1\" class=\"dataframe\">\n",
       "  <thead>\n",
       "    <tr style=\"text-align: right;\">\n",
       "      <th></th>\n",
       "      <th>qid</th>\n",
       "      <th>question_text</th>\n",
       "      <th>target</th>\n",
       "    </tr>\n",
       "  </thead>\n",
       "  <tbody>\n",
       "    <tr>\n",
       "      <th>783668</th>\n",
       "      <td>8462d2ead608fe1dcf9b</td>\n",
       "      <td>What causes a lump on the back of your head?</td>\n",
       "      <td>0</td>\n",
       "    </tr>\n",
       "    <tr>\n",
       "      <th>783669</th>\n",
       "      <td>12d225a4e28317c02151</td>\n",
       "      <td>What is standalone in simple way?</td>\n",
       "      <td>0</td>\n",
       "    </tr>\n",
       "    <tr>\n",
       "      <th>783670</th>\n",
       "      <td>03edc045cadbb11558dd</td>\n",
       "      <td>How do you prevent having low potassium while ...</td>\n",
       "      <td>0</td>\n",
       "    </tr>\n",
       "    <tr>\n",
       "      <th>783671</th>\n",
       "      <td>c6fb7dc8d0b34160dbe4</td>\n",
       "      <td>What is it like to meet the band Imagine Dragons?</td>\n",
       "      <td>0</td>\n",
       "    </tr>\n",
       "    <tr>\n",
       "      <th>783672</th>\n",
       "      <td>6a58b525dc9ccaf25b72</td>\n",
       "      <td>How can I find an intelligent, well reasoned p...</td>\n",
       "      <td>1</td>\n",
       "    </tr>\n",
       "  </tbody>\n",
       "</table>\n",
       "</div>"
      ],
      "text/plain": [
       "                         qid  \\\n",
       "783668  8462d2ead608fe1dcf9b   \n",
       "783669  12d225a4e28317c02151   \n",
       "783670  03edc045cadbb11558dd   \n",
       "783671  c6fb7dc8d0b34160dbe4   \n",
       "783672  6a58b525dc9ccaf25b72   \n",
       "\n",
       "                                            question_text  target  \n",
       "783668       What causes a lump on the back of your head?       0  \n",
       "783669                  What is standalone in simple way?       0  \n",
       "783670  How do you prevent having low potassium while ...       0  \n",
       "783671  What is it like to meet the band Imagine Dragons?       0  \n",
       "783672  How can I find an intelligent, well reasoned p...       1  "
      ]
     },
     "execution_count": 108,
     "metadata": {},
     "output_type": "execute_result"
    }
   ],
   "source": [
    "train_data.tail()"
   ]
  },
  {
   "cell_type": "code",
   "execution_count": 109,
   "metadata": {
    "id": "W8p0STCiX0Yv"
   },
   "outputs": [],
   "source": [
    "train_ids = train_data.qid.tolist()\n",
    "train_questions = train_data.question_text.tolist()"
   ]
  },
  {
   "cell_type": "code",
   "execution_count": 110,
   "metadata": {
    "id": "EgHW-xjWX0Yz"
   },
   "outputs": [],
   "source": [
    "train_labels = train_data.target.values.tolist()"
   ]
  },
  {
   "cell_type": "code",
   "execution_count": 111,
   "metadata": {
    "colab": {
     "base_uri": "https://localhost:8080/",
     "height": 87
    },
    "id": "-vCW6QyTX0Y4",
    "outputId": "31b6691c-9c60-45b0-eb67-304fa6355cad",
    "tags": []
   },
   "outputs": [
    {
     "name": "stdout",
     "output_type": "stream",
     "text": [
      "['6f47b0f60633c2056455', 'd49b3966070b27bf07fc', '6d5faa49380557c8ca7b', 'cebea75faa47388edcf5', '2a7b76a679cadb0a016e']\n",
      "['How can I reply to this comment, \"India is poor. It is a fact. I don\\'t understand the unnecessary criticism of Snapchat CEO\\'s statement\"?', 'What did they use for transportation in Ancient India?', 'What are the most important provisions of Obamacare?', 'At what age do most Finns master English today?', 'What is cheapest place to live in India for one month which best suits for tourism also?']\n",
      "[0, 0, 0, 0, 0]\n"
     ]
    }
   ],
   "source": [
    "print(train_ids[:5])\n",
    "print(train_questions[:5])\n",
    "print(train_labels[:5])"
   ]
  },
  {
   "cell_type": "code",
   "execution_count": 112,
   "metadata": {
    "colab": {
     "base_uri": "https://localhost:8080/",
     "height": 195
    },
    "id": "d8t1X3ZKX0Y7",
    "outputId": "0d588b76-04a1-4638-8781-c87267b2f36b"
   },
   "outputs": [
    {
     "data": {
      "text/html": [
       "<div>\n",
       "<style scoped>\n",
       "    .dataframe tbody tr th:only-of-type {\n",
       "        vertical-align: middle;\n",
       "    }\n",
       "\n",
       "    .dataframe tbody tr th {\n",
       "        vertical-align: top;\n",
       "    }\n",
       "\n",
       "    .dataframe thead th {\n",
       "        text-align: right;\n",
       "    }\n",
       "</style>\n",
       "<table border=\"1\" class=\"dataframe\">\n",
       "  <thead>\n",
       "    <tr style=\"text-align: right;\">\n",
       "      <th></th>\n",
       "      <th>qid</th>\n",
       "      <th>question_text</th>\n",
       "    </tr>\n",
       "  </thead>\n",
       "  <tbody>\n",
       "    <tr>\n",
       "      <th>0</th>\n",
       "      <td>f56a9a31974dc66186e8</td>\n",
       "      <td>Is it a good idea to go through a phlebotomy c...</td>\n",
       "    </tr>\n",
       "    <tr>\n",
       "      <th>1</th>\n",
       "      <td>d957c3758060f45da303</td>\n",
       "      <td>How can I fix a lead into a camlin compass to ...</td>\n",
       "    </tr>\n",
       "    <tr>\n",
       "      <th>2</th>\n",
       "      <td>ad822d5abaedb9e247b9</td>\n",
       "      <td>How many animes are there in world?</td>\n",
       "    </tr>\n",
       "    <tr>\n",
       "      <th>3</th>\n",
       "      <td>4e979c23eeb6a4bd1f2e</td>\n",
       "      <td>How do I tell my family I cut?</td>\n",
       "    </tr>\n",
       "    <tr>\n",
       "      <th>4</th>\n",
       "      <td>333cc031262566b8da49</td>\n",
       "      <td>How do I save down my bitcoin image address fr...</td>\n",
       "    </tr>\n",
       "  </tbody>\n",
       "</table>\n",
       "</div>"
      ],
      "text/plain": [
       "                    qid                                      question_text\n",
       "0  f56a9a31974dc66186e8  Is it a good idea to go through a phlebotomy c...\n",
       "1  d957c3758060f45da303  How can I fix a lead into a camlin compass to ...\n",
       "2  ad822d5abaedb9e247b9                How many animes are there in world?\n",
       "3  4e979c23eeb6a4bd1f2e                     How do I tell my family I cut?\n",
       "4  333cc031262566b8da49  How do I save down my bitcoin image address fr..."
      ]
     },
     "execution_count": 112,
     "metadata": {},
     "output_type": "execute_result"
    }
   ],
   "source": [
    "test_col_names = ['qid', 'question_text']\n",
    "test_data = pd.read_csv('test.csv', names=test_col_names, skiprows=1)\n",
    "test_data.head()"
   ]
  },
  {
   "cell_type": "code",
   "execution_count": 113,
   "metadata": {
    "colab": {
     "base_uri": "https://localhost:8080/",
     "height": 195
    },
    "id": "4sU6Y7i8X0Y-",
    "outputId": "5e5465e5-7955-4826-bb94-0c28cb7b190b"
   },
   "outputs": [
    {
     "data": {
      "text/html": [
       "<div>\n",
       "<style scoped>\n",
       "    .dataframe tbody tr th:only-of-type {\n",
       "        vertical-align: middle;\n",
       "    }\n",
       "\n",
       "    .dataframe tbody tr th {\n",
       "        vertical-align: top;\n",
       "    }\n",
       "\n",
       "    .dataframe thead th {\n",
       "        text-align: right;\n",
       "    }\n",
       "</style>\n",
       "<table border=\"1\" class=\"dataframe\">\n",
       "  <thead>\n",
       "    <tr style=\"text-align: right;\">\n",
       "      <th></th>\n",
       "      <th>qid</th>\n",
       "      <th>question_text</th>\n",
       "    </tr>\n",
       "  </thead>\n",
       "  <tbody>\n",
       "    <tr>\n",
       "      <th>522444</th>\n",
       "      <td>e8e6aa5226f36c27fe41</td>\n",
       "      <td>In terms of absolute passion and leadership, w...</td>\n",
       "    </tr>\n",
       "    <tr>\n",
       "      <th>522445</th>\n",
       "      <td>015fd068afcb9d0b4007</td>\n",
       "      <td>How do I make my orthodox Indian parents accep...</td>\n",
       "    </tr>\n",
       "    <tr>\n",
       "      <th>522446</th>\n",
       "      <td>9f0ef49eff6a3ff9e735</td>\n",
       "      <td>How can air force officers go to ranger school?</td>\n",
       "    </tr>\n",
       "    <tr>\n",
       "      <th>522447</th>\n",
       "      <td>d6b02f52f76dc4c22afd</td>\n",
       "      <td>Why does my brothers cow kick me all the time?</td>\n",
       "    </tr>\n",
       "    <tr>\n",
       "      <th>522448</th>\n",
       "      <td>132ef601b08de269aee9</td>\n",
       "      <td>How was Japan's national animal chosen?</td>\n",
       "    </tr>\n",
       "  </tbody>\n",
       "</table>\n",
       "</div>"
      ],
      "text/plain": [
       "                         qid  \\\n",
       "522444  e8e6aa5226f36c27fe41   \n",
       "522445  015fd068afcb9d0b4007   \n",
       "522446  9f0ef49eff6a3ff9e735   \n",
       "522447  d6b02f52f76dc4c22afd   \n",
       "522448  132ef601b08de269aee9   \n",
       "\n",
       "                                            question_text  \n",
       "522444  In terms of absolute passion and leadership, w...  \n",
       "522445  How do I make my orthodox Indian parents accep...  \n",
       "522446    How can air force officers go to ranger school?  \n",
       "522447     Why does my brothers cow kick me all the time?  \n",
       "522448            How was Japan's national animal chosen?  "
      ]
     },
     "execution_count": 113,
     "metadata": {},
     "output_type": "execute_result"
    }
   ],
   "source": [
    "test_data.tail()"
   ]
  },
  {
   "cell_type": "code",
   "execution_count": 114,
   "metadata": {
    "id": "Fam_8xS0X0ZC"
   },
   "outputs": [],
   "source": [
    "test_ids = test_data.qid.tolist()\n",
    "test_questions = test_data.question_text.tolist()"
   ]
  },
  {
   "cell_type": "code",
   "execution_count": 115,
   "metadata": {
    "colab": {
     "base_uri": "https://localhost:8080/",
     "height": 70
    },
    "id": "PBKlT_MlX0ZH",
    "outputId": "ff57ef06-db71-4db3-998a-a59363fddcb3",
    "tags": []
   },
   "outputs": [
    {
     "name": "stdout",
     "output_type": "stream",
     "text": [
      "['f56a9a31974dc66186e8', 'd957c3758060f45da303', 'ad822d5abaedb9e247b9', '4e979c23eeb6a4bd1f2e', '333cc031262566b8da49']\n",
      "['Is it a good idea to go through a phlebotomy class before going into nursing school next year? Will it give me any advantage at all?', 'How can I fix a lead into a camlin compass to draw arcs, circles in engineering graphics?', 'How many animes are there in world?', 'How do I tell my family I cut?', 'How do I save down my bitcoin image address from coinbase?']\n"
     ]
    }
   ],
   "source": [
    "print(test_ids[:5])\n",
    "print(test_questions[:5])"
   ]
  },
  {
   "cell_type": "code",
   "execution_count": 116,
   "metadata": {
    "id": "qU_Fae6wcbXe"
   },
   "outputs": [],
   "source": [
    "from nltk.tokenize import RegexpTokenizer\n",
    "tokenizer = RegexpTokenizer(r'\\w+')\n",
    "\n",
    "train_questions_new = []\n",
    "test_questions_new = []\n",
    "\n",
    "for sample_question in train_questions:\n",
    "  sample_question_temp = sample_question.lower()\n",
    "  train_questions_new.append(tokenizer.tokenize(sample_question_temp))\n",
    "\n",
    "for sample_question in test_questions:\n",
    "  sample_question_temp = sample_question.lower()\n",
    "  test_questions_new.append(tokenizer.tokenize(sample_question_temp))"
   ]
  },
  {
   "cell_type": "code",
   "execution_count": 117,
   "metadata": {
    "colab": {
     "base_uri": "https://localhost:8080/",
     "height": 70
    },
    "id": "8VvR4KTNdO3o",
    "outputId": "cdef8a70-e08e-48d2-c69b-98f993607f97",
    "tags": []
   },
   "outputs": [
    {
     "name": "stdout",
     "output_type": "stream",
     "text": [
      "[['how', 'can', 'i', 'reply', 'to', 'this', 'comment', 'india', 'is', 'poor', 'it', 'is', 'a', 'fact', 'i', 'don', 't', 'understand', 'the', 'unnecessary', 'criticism', 'of', 'snapchat', 'ceo', 's', 'statement'], ['what', 'did', 'they', 'use', 'for', 'transportation', 'in', 'ancient', 'india'], ['what', 'are', 'the', 'most', 'important', 'provisions', 'of', 'obamacare'], ['at', 'what', 'age', 'do', 'most', 'finns', 'master', 'english', 'today'], ['what', 'is', 'cheapest', 'place', 'to', 'live', 'in', 'india', 'for', 'one', 'month', 'which', 'best', 'suits', 'for', 'tourism', 'also']]\n",
      "[['is', 'it', 'a', 'good', 'idea', 'to', 'go', 'through', 'a', 'phlebotomy', 'class', 'before', 'going', 'into', 'nursing', 'school', 'next', 'year', 'will', 'it', 'give', 'me', 'any', 'advantage', 'at', 'all'], ['how', 'can', 'i', 'fix', 'a', 'lead', 'into', 'a', 'camlin', 'compass', 'to', 'draw', 'arcs', 'circles', 'in', 'engineering', 'graphics'], ['how', 'many', 'animes', 'are', 'there', 'in', 'world'], ['how', 'do', 'i', 'tell', 'my', 'family', 'i', 'cut'], ['how', 'do', 'i', 'save', 'down', 'my', 'bitcoin', 'image', 'address', 'from', 'coinbase']]\n"
     ]
    }
   ],
   "source": [
    "print(train_questions_new[:5])\n",
    "print(test_questions_new[:5])"
   ]
  },
  {
   "cell_type": "code",
   "execution_count": 118,
   "metadata": {},
   "outputs": [],
   "source": [
    "word_dict = {}\n",
    "word_index = 0"
   ]
  },
  {
   "cell_type": "code",
   "execution_count": 119,
   "metadata": {
    "colab": {
     "base_uri": "https://localhost:8080/",
     "height": 104
    },
    "id": "f9CIFJofX0ZK",
    "outputId": "998d4acc-7b6a-4333-e00f-34108bc448f4",
    "tags": []
   },
   "outputs": [
    {
     "name": "stdout",
     "output_type": "stream",
     "text": [
      "{\"haven't\", 'an', 'needn', 'not', 'most', 'or', 'isn', 'through', 'them', 'of', 'as', 'by', 'should', 'm', 'into', \"it's\", 'ain', 'shouldn', 'my', 'has', 'which', 'these', 'this', 'there', 'doesn', 'himself', 's', 'all', \"aren't\", \"don't\", 'its', 'can', 'wouldn', 'same', \"hasn't\", \"couldn't\", 'hers', 'themselves', 'do', 'any', 'was', 'myself', 'we', 'so', \"mightn't\", 'his', 'before', 'yours', 'haven', 'few', 'her', 'they', 'wasn', 'about', 'but', 'were', 'after', 'then', \"needn't\", 'won', 'weren', 'while', \"you'd\", 'some', \"won't\", 'above', 'up', 'those', 'herself', 'am', 'if', 'o', 'hasn', 'our', 'for', 'once', \"shan't\", 'had', \"hadn't\", 't', 'on', 'because', 'are', 'who', 'couldn', 'you', 'their', 'theirs', 'what', 'i', 'mustn', 'further', 'out', 'the', 'and', 'with', 'each', 'why', 'now', 'that', 'from', 'over', 'did', 'below', \"she's\", \"that'll\", 'he', \"doesn't\", 'itself', 'been', \"you're\", 'again', 'other', 'down', 'a', 'hadn', 'y', \"you'll\", 'at', 'during', \"wouldn't\", 'until', 'when', \"you've\", 'doing', \"shouldn't\", 'ourselves', 'll', 'didn', 'is', 'in', \"mustn't\", 'whom', 've', 'having', 'ma', 'just', 'very', 'mightn', 'where', 'aren', 'against', 'yourselves', 'than', \"didn't\", 'to', 'have', 'both', 'me', 'under', 'ours', 'only', 'will', 'own', 'd', 'don', 'between', 'she', \"should've\", 'it', 'no', 'yourself', 'be', 'being', 'shan', 'does', 'such', 'off', \"wasn't\", 'him', 're', 'nor', 'your', 'too', 'how', \"weren't\", 'here', \"isn't\", 'more'}\n",
      "179\n"
     ]
    },
    {
     "name": "stderr",
     "output_type": "stream",
     "text": [
      "[nltk_data] Downloading package stopwords to\n",
      "[nltk_data]     C:\\Users\\sowmi\\AppData\\Roaming\\nltk_data...\n",
      "[nltk_data]   Package stopwords is already up-to-date!\n"
     ]
    }
   ],
   "source": [
    "nltk.download('stopwords')\n",
    "stop_words = set(stopwords.words('english'))\n",
    "ps = PorterStemmer()\n",
    "print(stop_words)\n",
    "print(len(stop_words))"
   ]
  },
  {
   "cell_type": "code",
   "execution_count": 120,
   "metadata": {
    "id": "uoW3QjsDX0ZO"
   },
   "outputs": [],
   "source": [
    "def clean_stemm_stopwords(input_list):\n",
    "  filtered_op = []\n",
    "\n",
    "  for words_in_temp_sample in input_list:\n",
    "    temp_sample = ''\n",
    "    for word in words_in_temp_sample:\n",
    "      if not word in stop_words and not word in temp_sample:\n",
    "        temp_word = ps.stem(word)\n",
    "        temp_sample += (temp_word + ' ')\n",
    "        if temp_word not in word_dict.keys():\n",
    "          word_dict[temp_word] = len(word_dict)\n",
    "          \n",
    "    temp_sample = temp_sample[:-1]\n",
    "    filtered_op.append(temp_sample)\n",
    "\n",
    "  return filtered_op"
   ]
  },
  {
   "cell_type": "code",
   "execution_count": 121,
   "metadata": {
    "id": "GC-SkiNkX0ZS"
   },
   "outputs": [],
   "source": [
    "train_questions_filtered = clean_stemm_stopwords(train_questions_new)\n",
    "test_questions_filtered = clean_stemm_stopwords(test_questions_new)"
   ]
  },
  {
   "cell_type": "code",
   "execution_count": 122,
   "metadata": {},
   "outputs": [],
   "source": [
    "freq = np.asarray([np.zeros(len(word_dict)), np.zeros(len(word_dict))])"
   ]
  },
  {
   "cell_type": "code",
   "execution_count": 123,
   "metadata": {},
   "outputs": [],
   "source": [
    "for x,y in zip(train_questions_filtered, train_labels):\n",
    "    for w in x.split():\n",
    "        freq[y, word_dict[w]] += 1"
   ]
  },
  {
   "cell_type": "code",
   "execution_count": 124,
   "metadata": {},
   "outputs": [],
   "source": [
    "def feature_extraction(l):\n",
    "    x = np.asarray([np.ones(len(l)), np.zeros(len(l)), np.zeros(len(l))])\n",
    "    for i, s in enumerate(l):\n",
    "        for w in s.split():\n",
    "            x[1, i] += freq[0, word_dict[w]]\n",
    "            x[2, i] += freq[1, word_dict[w]]\n",
    "    return x"
   ]
  },
  {
   "cell_type": "code",
   "execution_count": 125,
   "metadata": {},
   "outputs": [],
   "source": [
    "xtrain = feature_extraction(train_questions_filtered)\n",
    "xsubmission = feature_extraction(test_questions_filtered)"
   ]
  },
  {
   "cell_type": "code",
   "execution_count": 126,
   "metadata": {},
   "outputs": [],
   "source": [
    "xtrain = xtrain.transpose()"
   ]
  },
  {
   "cell_type": "code",
   "execution_count": 127,
   "metadata": {},
   "outputs": [],
   "source": [
    "train_labels = np.asarray(train_labels)"
   ]
  },
  {
   "cell_type": "code",
   "execution_count": 128,
   "metadata": {},
   "outputs": [
    {
     "data": {
      "text/plain": [
       "(783673,)"
      ]
     },
     "execution_count": 128,
     "metadata": {},
     "output_type": "execute_result"
    }
   ],
   "source": [
    "train_labels.shape"
   ]
  },
  {
   "cell_type": "code",
   "execution_count": 129,
   "metadata": {},
   "outputs": [
    {
     "name": "stdout",
     "output_type": "stream",
     "text": [
      "Requirement already satisfied: xgboost in c:\\users\\sowmi\\miniconda3\\envs\\myenv\\lib\\site-packages (1.2.1)\n",
      "Requirement already satisfied: numpy in c:\\users\\sowmi\\miniconda3\\envs\\myenv\\lib\\site-packages (from xgboost) (1.19.1)\n",
      "Requirement already satisfied: scipy in c:\\users\\sowmi\\miniconda3\\envs\\myenv\\lib\\site-packages (from xgboost) (1.5.2)\n"
     ]
    }
   ],
   "source": [
    "from sklearn.preprocessing import StandardScaler\n",
    "from sklearn.linear_model import LogisticRegression\n",
    "from sklearn.metrics import accuracy_score, f1_score\n",
    "from sklearn.model_selection import train_test_split\n",
    "!pip3 install xgboost\n",
    "from xgboost import XGBClassifier"
   ]
  },
  {
   "cell_type": "code",
   "execution_count": 130,
   "metadata": {},
   "outputs": [],
   "source": [
    "xtrain, xtest, ytrain, ytest = train_test_split(xtrain, train_labels, test_size = 0.1)"
   ]
  },
  {
   "cell_type": "code",
   "execution_count": 131,
   "metadata": {},
   "outputs": [],
   "source": [
    "stc = StandardScaler()\n",
    "xtrain = stc.fit_transform(xtrain)\n",
    "xtest = stc.transform(xtest)\n"
   ]
  },
  {
   "cell_type": "code",
   "execution_count": 132,
   "metadata": {},
   "outputs": [],
   "source": [
    "xsubmission = stc.transform(xsubmission.transpose())"
   ]
  },
  {
   "cell_type": "code",
   "execution_count": 133,
   "metadata": {},
   "outputs": [
    {
     "data": {
      "text/plain": [
       "SGDClassifier()"
      ]
     },
     "execution_count": 133,
     "metadata": {},
     "output_type": "execute_result"
    }
   ],
   "source": [
    "smote = SMOTE(random_state=777,k_neighbors=5)\n",
    "X_smote,y_smote = smote.fit_sample(xtrain,ytrain)\n",
    "X_train, x_test, Y_train, y_test = train_test_split(X_smote,y_smote,test_size=0.3,random_state=42)\n",
    "sgd = SGDClassifier(max_iter=1000, tol=1e-3)\n",
    "sgd.fit(X_train, Y_train)"
   ]
  },
  {
   "cell_type": "code",
   "execution_count": 134,
   "metadata": {},
   "outputs": [],
   "source": [
    "from sklearn.metrics import classification_report"
   ]
  },
  {
   "cell_type": "code",
   "execution_count": 135,
   "metadata": {},
   "outputs": [
    {
     "name": "stdout",
     "output_type": "stream",
     "text": [
      "0.7728585929569767\n",
      "              precision    recall  f1-score   support\n",
      "\n",
      "           0       0.72      0.88      0.80    198504\n",
      "           1       0.85      0.66      0.74    198513\n",
      "\n",
      "    accuracy                           0.77    397017\n",
      "   macro avg       0.79      0.77      0.77    397017\n",
      "weighted avg       0.79      0.77      0.77    397017\n",
      "\n"
     ]
    }
   ],
   "source": [
    "pred_sgd = sgd.predict(x_test)\n",
    "print(accuracy_score(pred_sgd,y_test))\n",
    "print(classification_report(y_test,pred_sgd))"
   ]
  },
  {
   "cell_type": "code",
   "execution_count": 136,
   "metadata": {},
   "outputs": [
    {
     "data": {
      "text/plain": [
       "0.7442898420863095"
      ]
     },
     "execution_count": 136,
     "metadata": {},
     "output_type": "execute_result"
    }
   ],
   "source": [
    "f1_score(y_test, pred_sgd)"
   ]
  },
  {
   "cell_type": "code",
   "execution_count": 137,
   "metadata": {},
   "outputs": [],
   "source": [
    "sub_df = pd.read_csv('sample_submission.csv')"
   ]
  },
  {
   "cell_type": "code",
   "execution_count": 138,
   "metadata": {},
   "outputs": [],
   "source": [
    "sub_df['target'] = sgd.predict(xsubmission)"
   ]
  },
  {
   "cell_type": "code",
   "execution_count": 139,
   "metadata": {},
   "outputs": [],
   "source": [
    "sub_df.to_csv('sub3.csv', index = False)\n"
   ]
  },
  {
   "cell_type": "code",
   "execution_count": 140,
   "metadata": {},
   "outputs": [
    {
     "data": {
      "text/plain": [
       "array([0, 0, 1, ..., 0, 0, 0])"
      ]
     },
     "execution_count": 140,
     "metadata": {},
     "output_type": "execute_result"
    }
   ],
   "source": [
    "sgd.predict(xsubmission)"
   ]
  },
  {
   "cell_type": "code",
   "execution_count": 141,
   "metadata": {},
   "outputs": [],
   "source": [
    "a=np.array(sgd.predict(xsubmission))"
   ]
  },
  {
   "cell_type": "code",
   "execution_count": 142,
   "metadata": {},
   "outputs": [
    {
     "data": {
      "text/plain": [
       "78075"
      ]
     },
     "execution_count": 142,
     "metadata": {},
     "output_type": "execute_result"
    }
   ],
   "source": [
    "a.sum()"
   ]
  },
  {
   "cell_type": "code",
   "execution_count": 143,
   "metadata": {},
   "outputs": [
    {
     "data": {
      "text/plain": [
       "(522449,)"
      ]
     },
     "execution_count": 143,
     "metadata": {},
     "output_type": "execute_result"
    }
   ],
   "source": [
    "a.shape"
   ]
  },
  {
   "cell_type": "code",
   "execution_count": null,
   "metadata": {},
   "outputs": [],
   "source": []
  }
 ],
 "metadata": {
  "accelerator": "GPU",
  "colab": {
   "collapsed_sections": [],
   "name": "quora insincere questions.ipynb",
   "provenance": []
  },
  "kernelspec": {
   "display_name": "Python 3",
   "language": "python",
   "name": "python3"
  },
  "language_info": {
   "codemirror_mode": {
    "name": "ipython",
    "version": 3
   },
   "file_extension": ".py",
   "mimetype": "text/x-python",
   "name": "python",
   "nbconvert_exporter": "python",
   "pygments_lexer": "ipython3",
   "version": "3.6.12"
  }
 },
 "nbformat": 4,
 "nbformat_minor": 1
}
