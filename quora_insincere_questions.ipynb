{
  "nbformat": 4,
  "nbformat_minor": 0,
  "metadata": {
    "kernelspec": {
      "display_name": "Python 3",
      "language": "python",
      "name": "python3"
    },
    "language_info": {
      "codemirror_mode": {
        "name": "ipython",
        "version": 3
      },
      "file_extension": ".py",
      "mimetype": "text/x-python",
      "name": "python",
      "nbconvert_exporter": "python",
      "pygments_lexer": "ipython3",
      "version": "3.7.4-final"
    },
    "colab": {
      "name": "quora insincere questions.ipynb",
      "provenance": [],
      "collapsed_sections": []
    },
    "accelerator": "GPU"
  },
  "cells": [
    {
      "cell_type": "code",
      "metadata": {
        "id": "X2I6W2qpX0YK",
        "outputId": "feef3734-6365-4ac2-ffff-c7ff637f0264",
        "colab": {
          "base_uri": "https://localhost:8080/",
          "height": 272
        }
      },
      "source": [
        "import numpy as np\n",
        "import pandas as pd\n",
        "import statistics\n",
        "import nltk\n",
        "from nltk.corpus import stopwords\n",
        "from nltk.stem import PorterStemmer"
      ],
      "execution_count": 1,
      "outputs": []
    },
    {
      "cell_type": "code",
      "metadata": {
        "id": "NlCCav6OX0YY",
        "outputId": "a487e0a1-69a8-4617-e429-5844f0dac98c",
        "colab": {
          "base_uri": "https://localhost:8080/",
          "height": 195
        }
      },
      "source": [
        "train_col_names = ['qid', 'question_text', 'target']\n",
        "train_data = pd.read_csv('train.csv', names=train_col_names, skiprows=1)\n",
        "train_data.head()"
      ],
      "execution_count": 3,
      "outputs": [
        {
          "output_type": "execute_result",
          "data": {
            "text/plain": "                    qid                                      question_text  \\\n0  6f47b0f60633c2056455  How can I reply to this comment, &quot;India is poo...   \n1  d49b3966070b27bf07fc  What did they use for transportation in Ancien...   \n2  6d5faa49380557c8ca7b  What are the most important provisions of Obam...   \n3  cebea75faa47388edcf5    At what age do most Finns master English today?   \n4  2a7b76a679cadb0a016e  What is cheapest place to live in India for on...   \n\n   target  \n0       0  \n1       0  \n2       0  \n3       0  \n4       0  ",
            "text/html": "<div>\n<style scoped>\n    .dataframe tbody tr th:only-of-type {\n        vertical-align: middle;\n    }\n\n    .dataframe tbody tr th {\n        vertical-align: top;\n    }\n\n    .dataframe thead th {\n        text-align: right;\n    }\n</style>\n<table border=\"1\" class=\"dataframe\">\n  <thead>\n    <tr style=\"text-align: right;\">\n      <th></th>\n      <th>qid</th>\n      <th>question_text</th>\n      <th>target</th>\n    </tr>\n  </thead>\n  <tbody>\n    <tr>\n      <th>0</th>\n      <td>6f47b0f60633c2056455</td>\n      <td>How can I reply to this comment, \"India is poo...</td>\n      <td>0</td>\n    </tr>\n    <tr>\n      <th>1</th>\n      <td>d49b3966070b27bf07fc</td>\n      <td>What did they use for transportation in Ancien...</td>\n      <td>0</td>\n    </tr>\n    <tr>\n      <th>2</th>\n      <td>6d5faa49380557c8ca7b</td>\n      <td>What are the most important provisions of Obam...</td>\n      <td>0</td>\n    </tr>\n    <tr>\n      <th>3</th>\n      <td>cebea75faa47388edcf5</td>\n      <td>At what age do most Finns master English today?</td>\n      <td>0</td>\n    </tr>\n    <tr>\n      <th>4</th>\n      <td>2a7b76a679cadb0a016e</td>\n      <td>What is cheapest place to live in India for on...</td>\n      <td>0</td>\n    </tr>\n  </tbody>\n</table>\n</div>"
          },
          "metadata": {},
          "execution_count": 3
        }
      ]
    },
    {
      "cell_type": "code",
      "metadata": {
        "id": "k9HDQpt_X0Yo",
        "outputId": "e47f917b-3c6b-4572-a019-f4679220e9b3",
        "colab": {
          "base_uri": "https://localhost:8080/",
          "height": 195
        }
      },
      "source": [
        "train_data.tail()"
      ],
      "execution_count": 4,
      "outputs": [
        {
          "output_type": "execute_result",
          "data": {
            "text/plain": "                         qid  \\\n783668  8462d2ead608fe1dcf9b   \n783669  12d225a4e28317c02151   \n783670  03edc045cadbb11558dd   \n783671  c6fb7dc8d0b34160dbe4   \n783672  6a58b525dc9ccaf25b72   \n\n                                            question_text  target  \n783668       What causes a lump on the back of your head?       0  \n783669                  What is standalone in simple way?       0  \n783670  How do you prevent having low potassium while ...       0  \n783671  What is it like to meet the band Imagine Dragons?       0  \n783672  How can I find an intelligent, well reasoned p...       1  ",
            "text/html": "<div>\n<style scoped>\n    .dataframe tbody tr th:only-of-type {\n        vertical-align: middle;\n    }\n\n    .dataframe tbody tr th {\n        vertical-align: top;\n    }\n\n    .dataframe thead th {\n        text-align: right;\n    }\n</style>\n<table border=\"1\" class=\"dataframe\">\n  <thead>\n    <tr style=\"text-align: right;\">\n      <th></th>\n      <th>qid</th>\n      <th>question_text</th>\n      <th>target</th>\n    </tr>\n  </thead>\n  <tbody>\n    <tr>\n      <th>783668</th>\n      <td>8462d2ead608fe1dcf9b</td>\n      <td>What causes a lump on the back of your head?</td>\n      <td>0</td>\n    </tr>\n    <tr>\n      <th>783669</th>\n      <td>12d225a4e28317c02151</td>\n      <td>What is standalone in simple way?</td>\n      <td>0</td>\n    </tr>\n    <tr>\n      <th>783670</th>\n      <td>03edc045cadbb11558dd</td>\n      <td>How do you prevent having low potassium while ...</td>\n      <td>0</td>\n    </tr>\n    <tr>\n      <th>783671</th>\n      <td>c6fb7dc8d0b34160dbe4</td>\n      <td>What is it like to meet the band Imagine Dragons?</td>\n      <td>0</td>\n    </tr>\n    <tr>\n      <th>783672</th>\n      <td>6a58b525dc9ccaf25b72</td>\n      <td>How can I find an intelligent, well reasoned p...</td>\n      <td>1</td>\n    </tr>\n  </tbody>\n</table>\n</div>"
          },
          "metadata": {},
          "execution_count": 4
        }
      ]
    },
    {
      "cell_type": "code",
      "metadata": {
        "id": "W8p0STCiX0Yv"
      },
      "source": [
        "train_ids = train_data.qid.tolist()\n",
        "train_questions = train_data.question_text.tolist()"
      ],
      "execution_count": 5,
      "outputs": []
    },
    {
      "cell_type": "code",
      "metadata": {
        "id": "EgHW-xjWX0Yz"
      },
      "source": [
        "train_labels = train_data.target.values.tolist()"
      ],
      "execution_count": 6,
      "outputs": []
    },
    {
      "cell_type": "code",
      "metadata": {
        "id": "-vCW6QyTX0Y4",
        "outputId": "31b6691c-9c60-45b0-eb67-304fa6355cad",
        "colab": {
          "base_uri": "https://localhost:8080/",
          "height": 87
        },
        "tags": []
      },
      "source": [
        "print(train_ids[:5])\n",
        "print(train_questions[:5])\n",
        "print(train_labels[:5])"
      ],
      "execution_count": 7,
      "outputs": [
        {
          "output_type": "stream",
          "name": "stdout",
          "text": "[&#39;6f47b0f60633c2056455&#39;, &#39;d49b3966070b27bf07fc&#39;, &#39;6d5faa49380557c8ca7b&#39;, &#39;cebea75faa47388edcf5&#39;, &#39;2a7b76a679cadb0a016e&#39;]\n[&#39;How can I reply to this comment, &quot;India is poor. It is a fact. I don\\&#39;t understand the unnecessary criticism of Snapchat CEO\\&#39;s statement&quot;?&#39;, &#39;What did they use for transportation in Ancient India?&#39;, &#39;What are the most important provisions of Obamacare?&#39;, &#39;At what age do most Finns master English today?&#39;, &#39;What is cheapest place to live in India for one month which best suits for tourism also?&#39;]\n[0, 0, 0, 0, 0]\n"
        }
      ]
    },
    {
      "cell_type": "code",
      "metadata": {
        "id": "d8t1X3ZKX0Y7",
        "outputId": "0d588b76-04a1-4638-8781-c87267b2f36b",
        "colab": {
          "base_uri": "https://localhost:8080/",
          "height": 195
        }
      },
      "source": [
        "test_col_names = ['qid', 'question_text']\n",
        "test_data = pd.read_csv('test.csv', names=test_col_names, skiprows=1)\n",
        "test_data.head()"
      ],
      "execution_count": 8,
      "outputs": [
        {
          "output_type": "execute_result",
          "data": {
            "text/plain": "                    qid                                      question_text\n0  f56a9a31974dc66186e8  Is it a good idea to go through a phlebotomy c...\n1  d957c3758060f45da303  How can I fix a lead into a camlin compass to ...\n2  ad822d5abaedb9e247b9                How many animes are there in world?\n3  4e979c23eeb6a4bd1f2e                     How do I tell my family I cut?\n4  333cc031262566b8da49  How do I save down my bitcoin image address fr...",
            "text/html": "<div>\n<style scoped>\n    .dataframe tbody tr th:only-of-type {\n        vertical-align: middle;\n    }\n\n    .dataframe tbody tr th {\n        vertical-align: top;\n    }\n\n    .dataframe thead th {\n        text-align: right;\n    }\n</style>\n<table border=\"1\" class=\"dataframe\">\n  <thead>\n    <tr style=\"text-align: right;\">\n      <th></th>\n      <th>qid</th>\n      <th>question_text</th>\n    </tr>\n  </thead>\n  <tbody>\n    <tr>\n      <th>0</th>\n      <td>f56a9a31974dc66186e8</td>\n      <td>Is it a good idea to go through a phlebotomy c...</td>\n    </tr>\n    <tr>\n      <th>1</th>\n      <td>d957c3758060f45da303</td>\n      <td>How can I fix a lead into a camlin compass to ...</td>\n    </tr>\n    <tr>\n      <th>2</th>\n      <td>ad822d5abaedb9e247b9</td>\n      <td>How many animes are there in world?</td>\n    </tr>\n    <tr>\n      <th>3</th>\n      <td>4e979c23eeb6a4bd1f2e</td>\n      <td>How do I tell my family I cut?</td>\n    </tr>\n    <tr>\n      <th>4</th>\n      <td>333cc031262566b8da49</td>\n      <td>How do I save down my bitcoin image address fr...</td>\n    </tr>\n  </tbody>\n</table>\n</div>"
          },
          "metadata": {},
          "execution_count": 8
        }
      ]
    },
    {
      "cell_type": "code",
      "metadata": {
        "id": "4sU6Y7i8X0Y-",
        "outputId": "5e5465e5-7955-4826-bb94-0c28cb7b190b",
        "colab": {
          "base_uri": "https://localhost:8080/",
          "height": 195
        }
      },
      "source": [
        "test_data.tail()"
      ],
      "execution_count": 9,
      "outputs": [
        {
          "output_type": "execute_result",
          "data": {
            "text/plain": "                         qid  \\\n522444  e8e6aa5226f36c27fe41   \n522445  015fd068afcb9d0b4007   \n522446  9f0ef49eff6a3ff9e735   \n522447  d6b02f52f76dc4c22afd   \n522448  132ef601b08de269aee9   \n\n                                            question_text  \n522444  In terms of absolute passion and leadership, w...  \n522445  How do I make my orthodox Indian parents accep...  \n522446    How can air force officers go to ranger school?  \n522447     Why does my brothers cow kick me all the time?  \n522448            How was Japan&#39;s national animal chosen?  ",
            "text/html": "<div>\n<style scoped>\n    .dataframe tbody tr th:only-of-type {\n        vertical-align: middle;\n    }\n\n    .dataframe tbody tr th {\n        vertical-align: top;\n    }\n\n    .dataframe thead th {\n        text-align: right;\n    }\n</style>\n<table border=\"1\" class=\"dataframe\">\n  <thead>\n    <tr style=\"text-align: right;\">\n      <th></th>\n      <th>qid</th>\n      <th>question_text</th>\n    </tr>\n  </thead>\n  <tbody>\n    <tr>\n      <th>522444</th>\n      <td>e8e6aa5226f36c27fe41</td>\n      <td>In terms of absolute passion and leadership, w...</td>\n    </tr>\n    <tr>\n      <th>522445</th>\n      <td>015fd068afcb9d0b4007</td>\n      <td>How do I make my orthodox Indian parents accep...</td>\n    </tr>\n    <tr>\n      <th>522446</th>\n      <td>9f0ef49eff6a3ff9e735</td>\n      <td>How can air force officers go to ranger school?</td>\n    </tr>\n    <tr>\n      <th>522447</th>\n      <td>d6b02f52f76dc4c22afd</td>\n      <td>Why does my brothers cow kick me all the time?</td>\n    </tr>\n    <tr>\n      <th>522448</th>\n      <td>132ef601b08de269aee9</td>\n      <td>How was Japan's national animal chosen?</td>\n    </tr>\n  </tbody>\n</table>\n</div>"
          },
          "metadata": {},
          "execution_count": 9
        }
      ]
    },
    {
      "cell_type": "code",
      "metadata": {
        "id": "Fam_8xS0X0ZC"
      },
      "source": [
        "test_ids = test_data.qid.tolist()\n",
        "test_questions = test_data.question_text.tolist()"
      ],
      "execution_count": 10,
      "outputs": []
    },
    {
      "cell_type": "code",
      "metadata": {
        "id": "PBKlT_MlX0ZH",
        "outputId": "ff57ef06-db71-4db3-998a-a59363fddcb3",
        "colab": {
          "base_uri": "https://localhost:8080/",
          "height": 70
        },
        "tags": []
      },
      "source": [
        "print(test_ids[:5])\n",
        "print(test_questions[:5])"
      ],
      "execution_count": 11,
      "outputs": [
        {
          "output_type": "stream",
          "name": "stdout",
          "text": "[&#39;f56a9a31974dc66186e8&#39;, &#39;d957c3758060f45da303&#39;, &#39;ad822d5abaedb9e247b9&#39;, &#39;4e979c23eeb6a4bd1f2e&#39;, &#39;333cc031262566b8da49&#39;]\n[&#39;Is it a good idea to go through a phlebotomy class before going into nursing school next year? Will it give me any advantage at all?&#39;, &#39;How can I fix a lead into a camlin compass to draw arcs, circles in engineering graphics?&#39;, &#39;How many animes are there in world?&#39;, &#39;How do I tell my family I cut?&#39;, &#39;How do I save down my bitcoin image address from coinbase?&#39;]\n"
        }
      ]
    },
    {
      "cell_type": "code",
      "metadata": {
        "id": "qU_Fae6wcbXe"
      },
      "source": [
        "from nltk.tokenize import RegexpTokenizer\n",
        "tokenizer = RegexpTokenizer(r'\\w+')\n",
        "\n",
        "train_questions_new = []\n",
        "test_questions_new = []\n",
        "\n",
        "for sample_question in train_questions:\n",
        "  sample_question_temp = sample_question.lower()\n",
        "  train_questions_new.append(tokenizer.tokenize(sample_question_temp))\n",
        "\n",
        "for sample_question in test_questions:\n",
        "  sample_question_temp = sample_question.lower()\n",
        "  test_questions_new.append(tokenizer.tokenize(sample_question_temp))"
      ],
      "execution_count": 12,
      "outputs": []
    },
    {
      "cell_type": "code",
      "metadata": {
        "id": "8VvR4KTNdO3o",
        "outputId": "cdef8a70-e08e-48d2-c69b-98f993607f97",
        "colab": {
          "base_uri": "https://localhost:8080/",
          "height": 70
        },
        "tags": []
      },
      "source": [
        "print(train_questions_new[:5])\n",
        "print(test_questions_new[:5])"
      ],
      "execution_count": 13,
      "outputs": [
        {
          "output_type": "stream",
          "name": "stdout",
          "text": "[[&#39;how&#39;, &#39;can&#39;, &#39;i&#39;, &#39;reply&#39;, &#39;to&#39;, &#39;this&#39;, &#39;comment&#39;, &#39;india&#39;, &#39;is&#39;, &#39;poor&#39;, &#39;it&#39;, &#39;is&#39;, &#39;a&#39;, &#39;fact&#39;, &#39;i&#39;, &#39;don&#39;, &#39;t&#39;, &#39;understand&#39;, &#39;the&#39;, &#39;unnecessary&#39;, &#39;criticism&#39;, &#39;of&#39;, &#39;snapchat&#39;, &#39;ceo&#39;, &#39;s&#39;, &#39;statement&#39;], [&#39;what&#39;, &#39;did&#39;, &#39;they&#39;, &#39;use&#39;, &#39;for&#39;, &#39;transportation&#39;, &#39;in&#39;, &#39;ancient&#39;, &#39;india&#39;], [&#39;what&#39;, &#39;are&#39;, &#39;the&#39;, &#39;most&#39;, &#39;important&#39;, &#39;provisions&#39;, &#39;of&#39;, &#39;obamacare&#39;], [&#39;at&#39;, &#39;what&#39;, &#39;age&#39;, &#39;do&#39;, &#39;most&#39;, &#39;finns&#39;, &#39;master&#39;, &#39;english&#39;, &#39;today&#39;], [&#39;what&#39;, &#39;is&#39;, &#39;cheapest&#39;, &#39;place&#39;, &#39;to&#39;, &#39;live&#39;, &#39;in&#39;, &#39;india&#39;, &#39;for&#39;, &#39;one&#39;, &#39;month&#39;, &#39;which&#39;, &#39;best&#39;, &#39;suits&#39;, &#39;for&#39;, &#39;tourism&#39;, &#39;also&#39;]]\n[[&#39;is&#39;, &#39;it&#39;, &#39;a&#39;, &#39;good&#39;, &#39;idea&#39;, &#39;to&#39;, &#39;go&#39;, &#39;through&#39;, &#39;a&#39;, &#39;phlebotomy&#39;, &#39;class&#39;, &#39;before&#39;, &#39;going&#39;, &#39;into&#39;, &#39;nursing&#39;, &#39;school&#39;, &#39;next&#39;, &#39;year&#39;, &#39;will&#39;, &#39;it&#39;, &#39;give&#39;, &#39;me&#39;, &#39;any&#39;, &#39;advantage&#39;, &#39;at&#39;, &#39;all&#39;], [&#39;how&#39;, &#39;can&#39;, &#39;i&#39;, &#39;fix&#39;, &#39;a&#39;, &#39;lead&#39;, &#39;into&#39;, &#39;a&#39;, &#39;camlin&#39;, &#39;compass&#39;, &#39;to&#39;, &#39;draw&#39;, &#39;arcs&#39;, &#39;circles&#39;, &#39;in&#39;, &#39;engineering&#39;, &#39;graphics&#39;], [&#39;how&#39;, &#39;many&#39;, &#39;animes&#39;, &#39;are&#39;, &#39;there&#39;, &#39;in&#39;, &#39;world&#39;], [&#39;how&#39;, &#39;do&#39;, &#39;i&#39;, &#39;tell&#39;, &#39;my&#39;, &#39;family&#39;, &#39;i&#39;, &#39;cut&#39;], [&#39;how&#39;, &#39;do&#39;, &#39;i&#39;, &#39;save&#39;, &#39;down&#39;, &#39;my&#39;, &#39;bitcoin&#39;, &#39;image&#39;, &#39;address&#39;, &#39;from&#39;, &#39;coinbase&#39;]]\n"
        }
      ]
    },
    {
      "cell_type": "code",
      "metadata": {
        "id": "f9CIFJofX0ZK",
        "outputId": "998d4acc-7b6a-4333-e00f-34108bc448f4",
        "colab": {
          "base_uri": "https://localhost:8080/",
          "height": 104
        },
        "tags": []
      },
      "source": [
        "nltk.download('stopwords')\n",
        "stop_words = set(stopwords.words('english'))\n",
        "ps = PorterStemmer()\n",
        "print(stop_words)\n",
        "print(len(stop_words))"
      ],
      "execution_count": 14,
      "outputs": [
        {
          "output_type": "stream",
          "name": "stdout",
          "text": "{&#39;his&#39;, &#39;i&#39;, &#39;re&#39;, &#39;be&#39;, &quot;that&#39;ll&quot;, &#39;ain&#39;, &quot;you&#39;re&quot;, &#39;herself&#39;, &#39;too&#39;, &#39;theirs&#39;, &#39;it&#39;, &#39;out&#39;, &quot;it&#39;s&quot;, &#39;when&#39;, &quot;hasn&#39;t&quot;, &#39;if&#39;, &#39;have&#39;, &#39;each&#39;, &quot;mustn&#39;t&quot;, &#39;am&#39;, &quot;didn&#39;t&quot;, &#39;as&#39;, &#39;to&#39;, &#39;he&#39;, &#39;aren&#39;, &#39;she&#39;, &#39;do&#39;, &quot;isn&#39;t&quot;, &#39;their&#39;, &#39;weren&#39;, &#39;now&#39;, &#39;hasn&#39;, &#39;some&#39;, &#39;s&#39;, &#39;all&#39;, &#39;yours&#39;, &quot;doesn&#39;t&quot;, &#39;were&#39;, &#39;what&#39;, &#39;itself&#39;, &#39;after&#39;, &#39;can&#39;, &#39;them&#39;, &#39;hers&#39;, &quot;weren&#39;t&quot;, &#39;doing&#39;, &#39;yourselves&#39;, &#39;which&#39;, &#39;or&#39;, &#39;had&#39;, &#39;nor&#39;, &#39;needn&#39;, &#39;himself&#39;, &#39;during&#39;, &quot;you&#39;ve&quot;, &#39;an&#39;, &#39;shan&#39;, &#39;did&#39;, &#39;d&#39;, &#39;here&#39;, &#39;haven&#39;, &#39;don&#39;, &#39;ours&#39;, &#39;other&#39;, &#39;y&#39;, &#39;didn&#39;, &quot;haven&#39;t&quot;, &#39;myself&#39;, &#39;isn&#39;, &#39;not&#39;, &#39;that&#39;, &#39;those&#39;, &#39;him&#39;, &#39;most&#39;, &#39;will&#39;, &#39;they&#39;, &#39;until&#39;, &quot;don&#39;t&quot;, &#39;my&#39;, &quot;mightn&#39;t&quot;, &#39;any&#39;, &#39;our&#39;, &#39;mightn&#39;, &quot;you&#39;d&quot;, &#39;such&#39;, &#39;there&#39;, &#39;while&#39;, &#39;yourself&#39;, &#39;mustn&#39;, &#39;been&#39;, &#39;m&#39;, &#39;you&#39;, &quot;aren&#39;t&quot;, &#39;own&#39;, &#39;shouldn&#39;, &#39;does&#39;, &#39;is&#39;, &#39;ve&#39;, &quot;couldn&#39;t&quot;, &#39;having&#39;, &#39;the&#39;, &quot;shan&#39;t&quot;, &#39;just&#39;, &#39;wouldn&#39;, &quot;wouldn&#39;t&quot;, &#39;above&#39;, &#39;o&#39;, &#39;won&#39;, &quot;hadn&#39;t&quot;, &#39;wasn&#39;, &#39;ma&#39;, &#39;where&#39;, &#39;against&#39;, &#39;no&#39;, &#39;about&#39;, &#39;below&#39;, &#39;up&#39;, &#39;in&#39;, &quot;shouldn&#39;t&quot;, &#39;hadn&#39;, &#39;being&#39;, &quot;needn&#39;t&quot;, &#39;we&#39;, &#39;over&#39;, &#39;same&#39;, &quot;she&#39;s&quot;, &#39;these&#39;, &#39;before&#39;, &#39;again&#39;, &#39;once&#39;, &#39;doesn&#39;, &#39;me&#39;, &#39;should&#39;, &#39;couldn&#39;, &#39;at&#39;, &#39;very&#39;, &#39;this&#39;, &#39;ll&#39;, &#39;because&#39;, &#39;t&#39;, &quot;you&#39;ll&quot;, &quot;won&#39;t&quot;, &#39;who&#39;, &#39;into&#39;, &#39;and&#39;, &#39;her&#39;, &#39;its&#39;, &#39;your&#39;, &#39;only&#39;, &#39;but&#39;, &#39;then&#39;, &#39;than&#39;, &#39;themselves&#39;, &#39;ourselves&#39;, &#39;so&#39;, &#39;whom&#39;, &#39;a&#39;, &#39;was&#39;, &#39;few&#39;, &#39;how&#39;, &#39;by&#39;, &#39;why&#39;, &#39;between&#39;, &#39;more&#39;, &#39;both&#39;, &#39;with&#39;, &#39;has&#39;, &#39;down&#39;, &#39;off&#39;, &#39;through&#39;, &#39;for&#39;, &#39;under&#39;, &quot;wasn&#39;t&quot;, &#39;of&#39;, &#39;are&#39;, &#39;from&#39;, &quot;should&#39;ve&quot;, &#39;on&#39;, &#39;further&#39;}\n179\n[nltk_data] Downloading package stopwords to\n[nltk_data]     /home/sriram12/nltk_data...\n[nltk_data]   Package stopwords is already up-to-date!\n"
        }
      ]
    },
    {
      "cell_type": "code",
      "execution_count": 15,
      "metadata": {},
      "outputs": [],
      "source": [
        "word_dict = {}\n",
        "word_index = 0"
      ]
    },
    {
      "cell_type": "code",
      "metadata": {
        "id": "uoW3QjsDX0ZO"
      },
      "source": [
        "def clean_stemm_stopwords(input_list):\n",
        "  filtered_op = []\n",
        "\n",
        "  for words_in_temp_sample in input_list:\n",
        "    temp_sample = ''\n",
        "    for word in words_in_temp_sample:\n",
        "      if not word in stop_words and not word in temp_sample:\n",
        "        temp_word = ps.stem(word)\n",
        "        temp_sample += (temp_word + ' ')\n",
        "        if temp_word not in word_dict.keys():\n",
        "          word_dict[temp_word] = len(word_dict)\n",
        "          \n",
        "    temp_sample = temp_sample[:-1]\n",
        "    filtered_op.append(temp_sample)\n",
        "\n",
        "  return filtered_op"
      ],
      "execution_count": 29,
      "outputs": []
    },
    {
      "cell_type": "code",
      "metadata": {
        "id": "GC-SkiNkX0ZS"
      },
      "source": [
        "train_questions_filtered = clean_stemm_stopwords(train_questions_new)\n",
        "test_questions_filtered = clean_stemm_stopwords(test_questions_new)"
      ],
      "execution_count": 30,
      "outputs": []
    },
    {
      "cell_type": "code",
      "execution_count": 31,
      "metadata": {},
      "outputs": [],
      "source": [
        "freq = np.asarray([np.zeros(len(word_dict)), np.zeros(len(word_dict))])"
      ]
    },
    {
      "cell_type": "code",
      "execution_count": 32,
      "metadata": {},
      "outputs": [],
      "source": [
        "for x,y in zip(train_questions_filtered, train_labels):\n",
        "    for w in x.split():\n",
        "        freq[y, word_dict[w]] += 1"
      ]
    },
    {
      "cell_type": "code",
      "execution_count": 36,
      "metadata": {},
      "outputs": [],
      "source": [
        "def feature_extraction(l):\n",
        "    x = np.asarray([np.ones(len(l)), np.zeros(len(l)), np.zeros(len(l))])\n",
        "    for i, s in enumerate(l):\n",
        "        for w in s.split():\n",
        "            x[1, i] += freq[0, word_dict[w]]\n",
        "            x[2, i] += freq[1, word_dict[w]]\n",
        "    return x"
      ]
    },
    {
      "cell_type": "code",
      "execution_count": 37,
      "metadata": {},
      "outputs": [],
      "source": [
        "xtrain = feature_extraction(train_questions_filtered)\n",
        "xsubmission = feature_extraction(test_questions_filtered)"
      ]
    },
    {
      "cell_type": "code",
      "execution_count": 46,
      "metadata": {},
      "outputs": [],
      "source": [
        "xtrain = xtrain.transpose()"
      ]
    },
    {
      "cell_type": "code",
      "execution_count": 43,
      "metadata": {},
      "outputs": [],
      "source": [
        "train_labels = np.asarray(train_labels)"
      ]
    },
    {
      "cell_type": "code",
      "execution_count": 44,
      "metadata": {},
      "outputs": [
        {
          "output_type": "execute_result",
          "data": {
            "text/plain": "(783673,)"
          },
          "metadata": {},
          "execution_count": 44
        }
      ],
      "source": [
        "train_labels.shape"
      ]
    },
    {
      "cell_type": "code",
      "execution_count": 103,
      "metadata": {},
      "outputs": [],
      "source": [
        "from sklearn.preprocessing import StandardScaler\n",
        "from sklearn.linear_model import LogisticRegression\n",
        "from sklearn.metrics import accuracy_score, f1_score\n",
        "from sklearn.model_selection import train_test_split\n",
        "from xgboost import XGBClassifier"
      ]
    },
    {
      "cell_type": "code",
      "execution_count": 47,
      "metadata": {},
      "outputs": [],
      "source": [
        "xtrain, xtest, ytrain, ytest = train_test_split(xtrain, train_labels, test_size = 0.1)"
      ]
    },
    {
      "cell_type": "code",
      "execution_count": 48,
      "metadata": {},
      "outputs": [],
      "source": [
        "stc = StandardScaler()\n",
        "xtrain = stc.fit_transform(xtrain)\n",
        "xtest = stc.transform(xtest)\n"
      ]
    },
    {
      "cell_type": "code",
      "execution_count": 95,
      "metadata": {},
      "outputs": [],
      "source": [
        "xsubmission = stc.transform(xsubmission.transpose())"
      ]
    },
    {
      "cell_type": "code",
      "execution_count": 88,
      "metadata": {},
      "outputs": [],
      "source": [
        "lg = LogisticRegression(random_state = 12, max_iter = 1000, class_weight = {0:0.1, 1:0.9})"
      ]
    },
    {
      "cell_type": "code",
      "execution_count": 89,
      "metadata": {},
      "outputs": [
        {
          "output_type": "execute_result",
          "data": {
            "text/plain": "LogisticRegression(C=1.0, class_weight={0: 0.1, 1: 0.9}, dual=False,\n                   fit_intercept=True, intercept_scaling=1, l1_ratio=None,\n                   max_iter=1000, multi_class=&#39;auto&#39;, n_jobs=None, penalty=&#39;l2&#39;,\n                   random_state=12, solver=&#39;lbfgs&#39;, tol=0.0001, verbose=0,\n                   warm_start=False)"
          },
          "metadata": {},
          "execution_count": 89
        }
      ],
      "source": [
        "lg.fit(xtrain, ytrain)"
      ]
    },
    {
      "cell_type": "code",
      "execution_count": 109,
      "metadata": {},
      "outputs": [],
      "source": [
        "class_weights = np.asarray([0.94 if i == 1 else 0.06 for i in ytrain])"
      ]
    },
    {
      "cell_type": "code",
      "execution_count": 110,
      "metadata": {},
      "outputs": [
        {
          "output_type": "execute_result",
          "data": {
            "text/plain": "XGBClassifier(base_score=0.5, booster=&#39;gbtree&#39;, colsample_bylevel=1,\n              colsample_bynode=1, colsample_bytree=1, gamma=0, gpu_id=-1,\n              importance_type=&#39;gain&#39;, interaction_constraints=&#39;&#39;,\n              learning_rate=0.300000012, max_delta_step=0, max_depth=6,\n              min_child_weight=1, missing=nan, monotone_constraints=&#39;()&#39;,\n              n_estimators=100, n_jobs=0, num_parallel_tree=1,\n              objective=&#39;binary:logistic&#39;, random_state=0, reg_alpha=0,\n              reg_lambda=1, scale_pos_weight=1, subsample=1,\n              tree_method=&#39;exact&#39;, validate_parameters=1, verbosity=None)"
          },
          "metadata": {},
          "execution_count": 110
        }
      ],
      "source": [
        "xg = XGBClassifier()\n",
        "xg.fit(xtrain, ytrain, sample_weight = class_weights)"
      ]
    },
    {
      "cell_type": "code",
      "execution_count": 101,
      "metadata": {},
      "outputs": [],
      "source": [
        "def measure(x, y, model):\n",
        "    y_pred = model.predict(x)\n",
        "    return accuracy_score(y_pred, y), f1_score(y_pred, y)"
      ]
    },
    {
      "cell_type": "code",
      "execution_count": 111,
      "metadata": {},
      "outputs": [
        {
          "output_type": "execute_result",
          "data": {
            "text/plain": "(0.790872034084545, 0.3354493969443981)"
          },
          "metadata": {},
          "execution_count": 111
        }
      ],
      "source": [
        "measure(xtrain, ytrain, xg)"
      ]
    },
    {
      "cell_type": "code",
      "execution_count": 112,
      "metadata": {},
      "outputs": [
        {
          "output_type": "execute_result",
          "data": {
            "text/plain": "(0.7896718048182931, 0.32829373650107996)"
          },
          "metadata": {},
          "execution_count": 112
        }
      ],
      "source": [
        "measure(xtest, ytest, xg)"
      ]
    },
    {
      "cell_type": "code",
      "execution_count": 107,
      "metadata": {},
      "outputs": [
        {
          "output_type": "execute_result",
          "data": {
            "text/plain": "(0.8999581741232516, 0.41106752357900006)"
          },
          "metadata": {},
          "execution_count": 107
        }
      ],
      "source": [
        "measure(xtrain, ytrain, lg)"
      ]
    },
    {
      "cell_type": "code",
      "execution_count": 108,
      "metadata": {},
      "outputs": [
        {
          "output_type": "execute_result",
          "data": {
            "text/plain": "(0.8999581741232516, 0.41106752357900006)"
          },
          "metadata": {},
          "execution_count": 108
        }
      ],
      "source": [
        "measure(xtrain, ytrain, lg)"
      ]
    },
    {
      "cell_type": "code",
      "execution_count": 93,
      "metadata": {},
      "outputs": [],
      "source": [
        "sub_df = pd.read_csv('sample_submission.csv')"
      ]
    },
    {
      "cell_type": "code",
      "execution_count": 97,
      "metadata": {},
      "outputs": [],
      "source": [
        "sub_df['target'] = lg.predict(xsubmission)"
      ]
    },
    {
      "cell_type": "code",
      "execution_count": 99,
      "metadata": {},
      "outputs": [],
      "source": [
        "sub_df.to_csv('sub3.csv', index = False)"
      ]
    }
  ]
}