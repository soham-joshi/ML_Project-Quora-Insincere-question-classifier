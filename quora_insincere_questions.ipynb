{
  "nbformat": 4,
  "nbformat_minor": 0,
  "metadata": {
    "kernelspec": {
      "display_name": "Python 3",
      "language": "python",
      "name": "python3"
    },
    "language_info": {
      "codemirror_mode": {
        "name": "ipython",
        "version": 3
      },
      "file_extension": ".py",
      "mimetype": "text/x-python",
      "name": "python",
      "nbconvert_exporter": "python",
      "pygments_lexer": "ipython3",
      "version": "3.8.3"
    },
    "colab": {
      "name": "quora insincere questions.ipynb",
      "provenance": [],
      "collapsed_sections": []
    },
    "accelerator": "GPU"
  },
  "cells": [
    {
      "cell_type": "code",
      "metadata": {
        "id": "X2I6W2qpX0YK",
        "outputId": "feef3734-6365-4ac2-ffff-c7ff637f0264",
        "colab": {
          "base_uri": "https://localhost:8080/",
          "height": 272
        }
      },
      "source": [
        "!pip3 install nltk==3.4.5\n",
        "import numpy as np\n",
        "import pandas as pd\n",
        "import statistics\n",
        "import nltk\n",
        "from nltk.corpus import stopwords\n",
        "from nltk.stem import PorterStemmer"
      ],
      "execution_count": 1,
      "outputs": [
        {
          "output_type": "stream",
          "text": [
            "Collecting nltk==3.4.5\n",
            "\u001b[?25l  Downloading https://files.pythonhosted.org/packages/f6/1d/d925cfb4f324ede997f6d47bea4d9babba51b49e87a767c170b77005889d/nltk-3.4.5.zip (1.5MB)\n",
            "\r\u001b[K     |▎                               | 10kB 19.3MB/s eta 0:00:01\r\u001b[K     |▌                               | 20kB 4.9MB/s eta 0:00:01\r\u001b[K     |▊                               | 30kB 5.7MB/s eta 0:00:01\r\u001b[K     |█                               | 40kB 6.9MB/s eta 0:00:01\r\u001b[K     |█▏                              | 51kB 5.4MB/s eta 0:00:01\r\u001b[K     |█▍                              | 61kB 6.0MB/s eta 0:00:01\r\u001b[K     |█▋                              | 71kB 6.3MB/s eta 0:00:01\r\u001b[K     |█▉                              | 81kB 7.0MB/s eta 0:00:01\r\u001b[K     |██                              | 92kB 7.3MB/s eta 0:00:01\r\u001b[K     |██▎                             | 102kB 7.5MB/s eta 0:00:01\r\u001b[K     |██▌                             | 112kB 7.5MB/s eta 0:00:01\r\u001b[K     |██▊                             | 122kB 7.5MB/s eta 0:00:01\r\u001b[K     |███                             | 133kB 7.5MB/s eta 0:00:01\r\u001b[K     |███▏                            | 143kB 7.5MB/s eta 0:00:01\r\u001b[K     |███▍                            | 153kB 7.5MB/s eta 0:00:01\r\u001b[K     |███▋                            | 163kB 7.5MB/s eta 0:00:01\r\u001b[K     |███▉                            | 174kB 7.5MB/s eta 0:00:01\r\u001b[K     |████                            | 184kB 7.5MB/s eta 0:00:01\r\u001b[K     |████▎                           | 194kB 7.5MB/s eta 0:00:01\r\u001b[K     |████▌                           | 204kB 7.5MB/s eta 0:00:01\r\u001b[K     |████▊                           | 215kB 7.5MB/s eta 0:00:01\r\u001b[K     |█████                           | 225kB 7.5MB/s eta 0:00:01\r\u001b[K     |█████▏                          | 235kB 7.5MB/s eta 0:00:01\r\u001b[K     |█████▍                          | 245kB 7.5MB/s eta 0:00:01\r\u001b[K     |█████▋                          | 256kB 7.5MB/s eta 0:00:01\r\u001b[K     |█████▉                          | 266kB 7.5MB/s eta 0:00:01\r\u001b[K     |██████                          | 276kB 7.5MB/s eta 0:00:01\r\u001b[K     |██████▎                         | 286kB 7.5MB/s eta 0:00:01\r\u001b[K     |██████▌                         | 296kB 7.5MB/s eta 0:00:01\r\u001b[K     |██████▊                         | 307kB 7.5MB/s eta 0:00:01\r\u001b[K     |███████                         | 317kB 7.5MB/s eta 0:00:01\r\u001b[K     |███████▎                        | 327kB 7.5MB/s eta 0:00:01\r\u001b[K     |███████▌                        | 337kB 7.5MB/s eta 0:00:01\r\u001b[K     |███████▊                        | 348kB 7.5MB/s eta 0:00:01\r\u001b[K     |████████                        | 358kB 7.5MB/s eta 0:00:01\r\u001b[K     |████████▏                       | 368kB 7.5MB/s eta 0:00:01\r\u001b[K     |████████▍                       | 378kB 7.5MB/s eta 0:00:01\r\u001b[K     |████████▋                       | 389kB 7.5MB/s eta 0:00:01\r\u001b[K     |████████▉                       | 399kB 7.5MB/s eta 0:00:01\r\u001b[K     |█████████                       | 409kB 7.5MB/s eta 0:00:01\r\u001b[K     |█████████▎                      | 419kB 7.5MB/s eta 0:00:01\r\u001b[K     |█████████▌                      | 430kB 7.5MB/s eta 0:00:01\r\u001b[K     |█████████▊                      | 440kB 7.5MB/s eta 0:00:01\r\u001b[K     |██████████                      | 450kB 7.5MB/s eta 0:00:01\r\u001b[K     |██████████▏                     | 460kB 7.5MB/s eta 0:00:01\r\u001b[K     |██████████▍                     | 471kB 7.5MB/s eta 0:00:01\r\u001b[K     |██████████▋                     | 481kB 7.5MB/s eta 0:00:01\r\u001b[K     |██████████▉                     | 491kB 7.5MB/s eta 0:00:01\r\u001b[K     |███████████                     | 501kB 7.5MB/s eta 0:00:01\r\u001b[K     |███████████▎                    | 512kB 7.5MB/s eta 0:00:01\r\u001b[K     |███████████▌                    | 522kB 7.5MB/s eta 0:00:01\r\u001b[K     |███████████▊                    | 532kB 7.5MB/s eta 0:00:01\r\u001b[K     |████████████                    | 542kB 7.5MB/s eta 0:00:01\r\u001b[K     |████████████▏                   | 552kB 7.5MB/s eta 0:00:01\r\u001b[K     |████████████▍                   | 563kB 7.5MB/s eta 0:00:01\r\u001b[K     |████████████▋                   | 573kB 7.5MB/s eta 0:00:01\r\u001b[K     |████████████▉                   | 583kB 7.5MB/s eta 0:00:01\r\u001b[K     |█████████████                   | 593kB 7.5MB/s eta 0:00:01\r\u001b[K     |█████████████▎                  | 604kB 7.5MB/s eta 0:00:01\r\u001b[K     |█████████████▌                  | 614kB 7.5MB/s eta 0:00:01\r\u001b[K     |█████████████▉                  | 624kB 7.5MB/s eta 0:00:01\r\u001b[K     |██████████████                  | 634kB 7.5MB/s eta 0:00:01\r\u001b[K     |██████████████▎                 | 645kB 7.5MB/s eta 0:00:01\r\u001b[K     |██████████████▌                 | 655kB 7.5MB/s eta 0:00:01\r\u001b[K     |██████████████▊                 | 665kB 7.5MB/s eta 0:00:01\r\u001b[K     |███████████████                 | 675kB 7.5MB/s eta 0:00:01\r\u001b[K     |███████████████▏                | 686kB 7.5MB/s eta 0:00:01\r\u001b[K     |███████████████▍                | 696kB 7.5MB/s eta 0:00:01\r\u001b[K     |███████████████▋                | 706kB 7.5MB/s eta 0:00:01\r\u001b[K     |███████████████▉                | 716kB 7.5MB/s eta 0:00:01\r\u001b[K     |████████████████                | 727kB 7.5MB/s eta 0:00:01\r\u001b[K     |████████████████▎               | 737kB 7.5MB/s eta 0:00:01\r\u001b[K     |████████████████▌               | 747kB 7.5MB/s eta 0:00:01\r\u001b[K     |████████████████▊               | 757kB 7.5MB/s eta 0:00:01\r\u001b[K     |█████████████████               | 768kB 7.5MB/s eta 0:00:01\r\u001b[K     |█████████████████▏              | 778kB 7.5MB/s eta 0:00:01\r\u001b[K     |█████████████████▍              | 788kB 7.5MB/s eta 0:00:01\r\u001b[K     |█████████████████▋              | 798kB 7.5MB/s eta 0:00:01\r\u001b[K     |█████████████████▉              | 808kB 7.5MB/s eta 0:00:01\r\u001b[K     |██████████████████              | 819kB 7.5MB/s eta 0:00:01\r\u001b[K     |██████████████████▎             | 829kB 7.5MB/s eta 0:00:01\r\u001b[K     |██████████████████▌             | 839kB 7.5MB/s eta 0:00:01\r\u001b[K     |██████████████████▊             | 849kB 7.5MB/s eta 0:00:01\r\u001b[K     |███████████████████             | 860kB 7.5MB/s eta 0:00:01\r\u001b[K     |███████████████████▏            | 870kB 7.5MB/s eta 0:00:01\r\u001b[K     |███████████████████▍            | 880kB 7.5MB/s eta 0:00:01\r\u001b[K     |███████████████████▋            | 890kB 7.5MB/s eta 0:00:01\r\u001b[K     |███████████████████▉            | 901kB 7.5MB/s eta 0:00:01\r\u001b[K     |████████████████████            | 911kB 7.5MB/s eta 0:00:01\r\u001b[K     |████████████████████▎           | 921kB 7.5MB/s eta 0:00:01\r\u001b[K     |████████████████████▋           | 931kB 7.5MB/s eta 0:00:01\r\u001b[K     |████████████████████▉           | 942kB 7.5MB/s eta 0:00:01\r\u001b[K     |█████████████████████           | 952kB 7.5MB/s eta 0:00:01\r\u001b[K     |█████████████████████▎          | 962kB 7.5MB/s eta 0:00:01\r\u001b[K     |█████████████████████▌          | 972kB 7.5MB/s eta 0:00:01\r\u001b[K     |█████████████████████▊          | 983kB 7.5MB/s eta 0:00:01\r\u001b[K     |██████████████████████          | 993kB 7.5MB/s eta 0:00:01\r\u001b[K     |██████████████████████▏         | 1.0MB 7.5MB/s eta 0:00:01\r\u001b[K     |██████████████████████▍         | 1.0MB 7.5MB/s eta 0:00:01\r\u001b[K     |██████████████████████▋         | 1.0MB 7.5MB/s eta 0:00:01\r\u001b[K     |██████████████████████▉         | 1.0MB 7.5MB/s eta 0:00:01\r\u001b[K     |███████████████████████         | 1.0MB 7.5MB/s eta 0:00:01\r\u001b[K     |███████████████████████▎        | 1.1MB 7.5MB/s eta 0:00:01\r\u001b[K     |███████████████████████▌        | 1.1MB 7.5MB/s eta 0:00:01\r\u001b[K     |███████████████████████▊        | 1.1MB 7.5MB/s eta 0:00:01\r\u001b[K     |████████████████████████        | 1.1MB 7.5MB/s eta 0:00:01\r\u001b[K     |████████████████████████▏       | 1.1MB 7.5MB/s eta 0:00:01\r\u001b[K     |████████████████████████▍       | 1.1MB 7.5MB/s eta 0:00:01\r\u001b[K     |████████████████████████▋       | 1.1MB 7.5MB/s eta 0:00:01\r\u001b[K     |████████████████████████▉       | 1.1MB 7.5MB/s eta 0:00:01\r\u001b[K     |█████████████████████████       | 1.1MB 7.5MB/s eta 0:00:01\r\u001b[K     |█████████████████████████▎      | 1.1MB 7.5MB/s eta 0:00:01\r\u001b[K     |█████████████████████████▌      | 1.2MB 7.5MB/s eta 0:00:01\r\u001b[K     |█████████████████████████▊      | 1.2MB 7.5MB/s eta 0:00:01\r\u001b[K     |██████████████████████████      | 1.2MB 7.5MB/s eta 0:00:01\r\u001b[K     |██████████████████████████▏     | 1.2MB 7.5MB/s eta 0:00:01\r\u001b[K     |██████████████████████████▍     | 1.2MB 7.5MB/s eta 0:00:01\r\u001b[K     |██████████████████████████▋     | 1.2MB 7.5MB/s eta 0:00:01\r\u001b[K     |██████████████████████████▉     | 1.2MB 7.5MB/s eta 0:00:01\r\u001b[K     |███████████████████████████     | 1.2MB 7.5MB/s eta 0:00:01\r\u001b[K     |███████████████████████████▍    | 1.2MB 7.5MB/s eta 0:00:01\r\u001b[K     |███████████████████████████▋    | 1.2MB 7.5MB/s eta 0:00:01\r\u001b[K     |███████████████████████████▉    | 1.3MB 7.5MB/s eta 0:00:01\r\u001b[K     |████████████████████████████    | 1.3MB 7.5MB/s eta 0:00:01\r\u001b[K     |████████████████████████████▎   | 1.3MB 7.5MB/s eta 0:00:01\r\u001b[K     |████████████████████████████▌   | 1.3MB 7.5MB/s eta 0:00:01\r\u001b[K     |████████████████████████████▊   | 1.3MB 7.5MB/s eta 0:00:01\r\u001b[K     |█████████████████████████████   | 1.3MB 7.5MB/s eta 0:00:01\r\u001b[K     |█████████████████████████████▏  | 1.3MB 7.5MB/s eta 0:00:01\r\u001b[K     |█████████████████████████████▍  | 1.3MB 7.5MB/s eta 0:00:01\r\u001b[K     |█████████████████████████████▋  | 1.3MB 7.5MB/s eta 0:00:01\r\u001b[K     |█████████████████████████████▉  | 1.4MB 7.5MB/s eta 0:00:01\r\u001b[K     |██████████████████████████████  | 1.4MB 7.5MB/s eta 0:00:01\r\u001b[K     |██████████████████████████████▎ | 1.4MB 7.5MB/s eta 0:00:01\r\u001b[K     |██████████████████████████████▌ | 1.4MB 7.5MB/s eta 0:00:01\r\u001b[K     |██████████████████████████████▊ | 1.4MB 7.5MB/s eta 0:00:01\r\u001b[K     |███████████████████████████████ | 1.4MB 7.5MB/s eta 0:00:01\r\u001b[K     |███████████████████████████████▏| 1.4MB 7.5MB/s eta 0:00:01\r\u001b[K     |███████████████████████████████▍| 1.4MB 7.5MB/s eta 0:00:01\r\u001b[K     |███████████████████████████████▋| 1.4MB 7.5MB/s eta 0:00:01\r\u001b[K     |███████████████████████████████▉| 1.4MB 7.5MB/s eta 0:00:01\r\u001b[K     |████████████████████████████████| 1.5MB 7.5MB/s \n",
            "\u001b[?25hRequirement already satisfied: six in /usr/local/lib/python3.6/dist-packages (from nltk==3.4.5) (1.15.0)\n",
            "Building wheels for collected packages: nltk\n",
            "  Building wheel for nltk (setup.py) ... \u001b[?25l\u001b[?25hdone\n",
            "  Created wheel for nltk: filename=nltk-3.4.5-cp36-none-any.whl size=1449906 sha256=beb10d8430bb941433e5b4f6e9dfd7ab059c0831d4e3fcc37e59013769f1dd22\n",
            "  Stored in directory: /root/.cache/pip/wheels/96/86/f6/68ab24c23f207c0077381a5e3904b2815136b879538a24b483\n",
            "Successfully built nltk\n",
            "Installing collected packages: nltk\n",
            "  Found existing installation: nltk 3.2.5\n",
            "    Uninstalling nltk-3.2.5:\n",
            "      Successfully uninstalled nltk-3.2.5\n",
            "Successfully installed nltk-3.4.5\n"
          ],
          "name": "stdout"
        }
      ]
    },
    {
      "cell_type": "code",
      "metadata": {
        "id": "NlCCav6OX0YY",
        "outputId": "a487e0a1-69a8-4617-e429-5844f0dac98c",
        "colab": {
          "base_uri": "https://localhost:8080/",
          "height": 195
        }
      },
      "source": [
        "train_col_names = ['qid', 'question_text', 'target']\n",
        "train_data = pd.read_csv('train.csv', names=train_col_names, skiprows=1)\n",
        "train_data.head()"
      ],
      "execution_count": 2,
      "outputs": [
        {
          "output_type": "execute_result",
          "data": {
            "text/html": [
              "<div>\n",
              "<style scoped>\n",
              "    .dataframe tbody tr th:only-of-type {\n",
              "        vertical-align: middle;\n",
              "    }\n",
              "\n",
              "    .dataframe tbody tr th {\n",
              "        vertical-align: top;\n",
              "    }\n",
              "\n",
              "    .dataframe thead th {\n",
              "        text-align: right;\n",
              "    }\n",
              "</style>\n",
              "<table border=\"1\" class=\"dataframe\">\n",
              "  <thead>\n",
              "    <tr style=\"text-align: right;\">\n",
              "      <th></th>\n",
              "      <th>qid</th>\n",
              "      <th>question_text</th>\n",
              "      <th>target</th>\n",
              "    </tr>\n",
              "  </thead>\n",
              "  <tbody>\n",
              "    <tr>\n",
              "      <th>0</th>\n",
              "      <td>6f47b0f60633c2056455</td>\n",
              "      <td>How can I reply to this comment, \"India is poo...</td>\n",
              "      <td>0</td>\n",
              "    </tr>\n",
              "    <tr>\n",
              "      <th>1</th>\n",
              "      <td>d49b3966070b27bf07fc</td>\n",
              "      <td>What did they use for transportation in Ancien...</td>\n",
              "      <td>0</td>\n",
              "    </tr>\n",
              "    <tr>\n",
              "      <th>2</th>\n",
              "      <td>6d5faa49380557c8ca7b</td>\n",
              "      <td>What are the most important provisions of Obam...</td>\n",
              "      <td>0</td>\n",
              "    </tr>\n",
              "    <tr>\n",
              "      <th>3</th>\n",
              "      <td>cebea75faa47388edcf5</td>\n",
              "      <td>At what age do most Finns master English today?</td>\n",
              "      <td>0</td>\n",
              "    </tr>\n",
              "    <tr>\n",
              "      <th>4</th>\n",
              "      <td>2a7b76a679cadb0a016e</td>\n",
              "      <td>What is cheapest place to live in India for on...</td>\n",
              "      <td>0</td>\n",
              "    </tr>\n",
              "  </tbody>\n",
              "</table>\n",
              "</div>"
            ],
            "text/plain": [
              "                    qid  ... target\n",
              "0  6f47b0f60633c2056455  ...      0\n",
              "1  d49b3966070b27bf07fc  ...      0\n",
              "2  6d5faa49380557c8ca7b  ...      0\n",
              "3  cebea75faa47388edcf5  ...      0\n",
              "4  2a7b76a679cadb0a016e  ...      0\n",
              "\n",
              "[5 rows x 3 columns]"
            ]
          },
          "metadata": {
            "tags": []
          },
          "execution_count": 2
        }
      ]
    },
    {
      "cell_type": "code",
      "metadata": {
        "id": "k9HDQpt_X0Yo",
        "outputId": "e47f917b-3c6b-4572-a019-f4679220e9b3",
        "colab": {
          "base_uri": "https://localhost:8080/",
          "height": 195
        }
      },
      "source": [
        "train_data.tail()"
      ],
      "execution_count": 3,
      "outputs": [
        {
          "output_type": "execute_result",
          "data": {
            "text/html": [
              "<div>\n",
              "<style scoped>\n",
              "    .dataframe tbody tr th:only-of-type {\n",
              "        vertical-align: middle;\n",
              "    }\n",
              "\n",
              "    .dataframe tbody tr th {\n",
              "        vertical-align: top;\n",
              "    }\n",
              "\n",
              "    .dataframe thead th {\n",
              "        text-align: right;\n",
              "    }\n",
              "</style>\n",
              "<table border=\"1\" class=\"dataframe\">\n",
              "  <thead>\n",
              "    <tr style=\"text-align: right;\">\n",
              "      <th></th>\n",
              "      <th>qid</th>\n",
              "      <th>question_text</th>\n",
              "      <th>target</th>\n",
              "    </tr>\n",
              "  </thead>\n",
              "  <tbody>\n",
              "    <tr>\n",
              "      <th>783668</th>\n",
              "      <td>8462d2ead608fe1dcf9b</td>\n",
              "      <td>What causes a lump on the back of your head?</td>\n",
              "      <td>0</td>\n",
              "    </tr>\n",
              "    <tr>\n",
              "      <th>783669</th>\n",
              "      <td>12d225a4e28317c02151</td>\n",
              "      <td>What is standalone in simple way?</td>\n",
              "      <td>0</td>\n",
              "    </tr>\n",
              "    <tr>\n",
              "      <th>783670</th>\n",
              "      <td>03edc045cadbb11558dd</td>\n",
              "      <td>How do you prevent having low potassium while ...</td>\n",
              "      <td>0</td>\n",
              "    </tr>\n",
              "    <tr>\n",
              "      <th>783671</th>\n",
              "      <td>c6fb7dc8d0b34160dbe4</td>\n",
              "      <td>What is it like to meet the band Imagine Dragons?</td>\n",
              "      <td>0</td>\n",
              "    </tr>\n",
              "    <tr>\n",
              "      <th>783672</th>\n",
              "      <td>6a58b525dc9ccaf25b72</td>\n",
              "      <td>How can I find an intelligent, well reasoned p...</td>\n",
              "      <td>1</td>\n",
              "    </tr>\n",
              "  </tbody>\n",
              "</table>\n",
              "</div>"
            ],
            "text/plain": [
              "                         qid  ... target\n",
              "783668  8462d2ead608fe1dcf9b  ...      0\n",
              "783669  12d225a4e28317c02151  ...      0\n",
              "783670  03edc045cadbb11558dd  ...      0\n",
              "783671  c6fb7dc8d0b34160dbe4  ...      0\n",
              "783672  6a58b525dc9ccaf25b72  ...      1\n",
              "\n",
              "[5 rows x 3 columns]"
            ]
          },
          "metadata": {
            "tags": []
          },
          "execution_count": 3
        }
      ]
    },
    {
      "cell_type": "code",
      "metadata": {
        "id": "W8p0STCiX0Yv"
      },
      "source": [
        "train_ids = train_data.qid.tolist()\n",
        "train_questions = train_data.question_text.tolist()"
      ],
      "execution_count": 4,
      "outputs": []
    },
    {
      "cell_type": "code",
      "metadata": {
        "id": "EgHW-xjWX0Yz"
      },
      "source": [
        "train_labels = train_data.target.values.tolist()"
      ],
      "execution_count": 5,
      "outputs": []
    },
    {
      "cell_type": "code",
      "metadata": {
        "id": "-vCW6QyTX0Y4",
        "outputId": "31b6691c-9c60-45b0-eb67-304fa6355cad",
        "colab": {
          "base_uri": "https://localhost:8080/",
          "height": 87
        }
      },
      "source": [
        "print(train_ids[:5])\n",
        "print(train_questions[:5])\n",
        "print(train_labels[:5])"
      ],
      "execution_count": 6,
      "outputs": [
        {
          "output_type": "stream",
          "text": [
            "['6f47b0f60633c2056455', 'd49b3966070b27bf07fc', '6d5faa49380557c8ca7b', 'cebea75faa47388edcf5', '2a7b76a679cadb0a016e']\n",
            "['How can I reply to this comment, \"India is poor. It is a fact. I don\\'t understand the unnecessary criticism of Snapchat CEO\\'s statement\"?', 'What did they use for transportation in Ancient India?', 'What are the most important provisions of Obamacare?', 'At what age do most Finns master English today?', 'What is cheapest place to live in India for one month which best suits for tourism also?']\n",
            "[0, 0, 0, 0, 0]\n"
          ],
          "name": "stdout"
        }
      ]
    },
    {
      "cell_type": "code",
      "metadata": {
        "id": "d8t1X3ZKX0Y7",
        "outputId": "0d588b76-04a1-4638-8781-c87267b2f36b",
        "colab": {
          "base_uri": "https://localhost:8080/",
          "height": 195
        }
      },
      "source": [
        "test_col_names = ['qid', 'question_text']\n",
        "test_data = pd.read_csv('test.csv', names=test_col_names, skiprows=1)\n",
        "test_data.head()"
      ],
      "execution_count": 7,
      "outputs": [
        {
          "output_type": "execute_result",
          "data": {
            "text/html": [
              "<div>\n",
              "<style scoped>\n",
              "    .dataframe tbody tr th:only-of-type {\n",
              "        vertical-align: middle;\n",
              "    }\n",
              "\n",
              "    .dataframe tbody tr th {\n",
              "        vertical-align: top;\n",
              "    }\n",
              "\n",
              "    .dataframe thead th {\n",
              "        text-align: right;\n",
              "    }\n",
              "</style>\n",
              "<table border=\"1\" class=\"dataframe\">\n",
              "  <thead>\n",
              "    <tr style=\"text-align: right;\">\n",
              "      <th></th>\n",
              "      <th>qid</th>\n",
              "      <th>question_text</th>\n",
              "    </tr>\n",
              "  </thead>\n",
              "  <tbody>\n",
              "    <tr>\n",
              "      <th>0</th>\n",
              "      <td>f56a9a31974dc66186e8</td>\n",
              "      <td>Is it a good idea to go through a phlebotomy c...</td>\n",
              "    </tr>\n",
              "    <tr>\n",
              "      <th>1</th>\n",
              "      <td>d957c3758060f45da303</td>\n",
              "      <td>How can I fix a lead into a camlin compass to ...</td>\n",
              "    </tr>\n",
              "    <tr>\n",
              "      <th>2</th>\n",
              "      <td>ad822d5abaedb9e247b9</td>\n",
              "      <td>How many animes are there in world?</td>\n",
              "    </tr>\n",
              "    <tr>\n",
              "      <th>3</th>\n",
              "      <td>4e979c23eeb6a4bd1f2e</td>\n",
              "      <td>How do I tell my family I cut?</td>\n",
              "    </tr>\n",
              "    <tr>\n",
              "      <th>4</th>\n",
              "      <td>333cc031262566b8da49</td>\n",
              "      <td>How do I save down my bitcoin image address fr...</td>\n",
              "    </tr>\n",
              "  </tbody>\n",
              "</table>\n",
              "</div>"
            ],
            "text/plain": [
              "                    qid                                      question_text\n",
              "0  f56a9a31974dc66186e8  Is it a good idea to go through a phlebotomy c...\n",
              "1  d957c3758060f45da303  How can I fix a lead into a camlin compass to ...\n",
              "2  ad822d5abaedb9e247b9                How many animes are there in world?\n",
              "3  4e979c23eeb6a4bd1f2e                     How do I tell my family I cut?\n",
              "4  333cc031262566b8da49  How do I save down my bitcoin image address fr..."
            ]
          },
          "metadata": {
            "tags": []
          },
          "execution_count": 7
        }
      ]
    },
    {
      "cell_type": "code",
      "metadata": {
        "id": "4sU6Y7i8X0Y-",
        "outputId": "5e5465e5-7955-4826-bb94-0c28cb7b190b",
        "colab": {
          "base_uri": "https://localhost:8080/",
          "height": 195
        }
      },
      "source": [
        "test_data.tail()"
      ],
      "execution_count": 8,
      "outputs": [
        {
          "output_type": "execute_result",
          "data": {
            "text/html": [
              "<div>\n",
              "<style scoped>\n",
              "    .dataframe tbody tr th:only-of-type {\n",
              "        vertical-align: middle;\n",
              "    }\n",
              "\n",
              "    .dataframe tbody tr th {\n",
              "        vertical-align: top;\n",
              "    }\n",
              "\n",
              "    .dataframe thead th {\n",
              "        text-align: right;\n",
              "    }\n",
              "</style>\n",
              "<table border=\"1\" class=\"dataframe\">\n",
              "  <thead>\n",
              "    <tr style=\"text-align: right;\">\n",
              "      <th></th>\n",
              "      <th>qid</th>\n",
              "      <th>question_text</th>\n",
              "    </tr>\n",
              "  </thead>\n",
              "  <tbody>\n",
              "    <tr>\n",
              "      <th>522444</th>\n",
              "      <td>e8e6aa5226f36c27fe41</td>\n",
              "      <td>In terms of absolute passion and leadership, w...</td>\n",
              "    </tr>\n",
              "    <tr>\n",
              "      <th>522445</th>\n",
              "      <td>015fd068afcb9d0b4007</td>\n",
              "      <td>How do I make my orthodox Indian parents accep...</td>\n",
              "    </tr>\n",
              "    <tr>\n",
              "      <th>522446</th>\n",
              "      <td>9f0ef49eff6a3ff9e735</td>\n",
              "      <td>How can air force officers go to ranger school?</td>\n",
              "    </tr>\n",
              "    <tr>\n",
              "      <th>522447</th>\n",
              "      <td>d6b02f52f76dc4c22afd</td>\n",
              "      <td>Why does my brothers cow kick me all the time?</td>\n",
              "    </tr>\n",
              "    <tr>\n",
              "      <th>522448</th>\n",
              "      <td>132ef601b08de269aee9</td>\n",
              "      <td>How was Japan's national animal chosen?</td>\n",
              "    </tr>\n",
              "  </tbody>\n",
              "</table>\n",
              "</div>"
            ],
            "text/plain": [
              "                         qid                                      question_text\n",
              "522444  e8e6aa5226f36c27fe41  In terms of absolute passion and leadership, w...\n",
              "522445  015fd068afcb9d0b4007  How do I make my orthodox Indian parents accep...\n",
              "522446  9f0ef49eff6a3ff9e735    How can air force officers go to ranger school?\n",
              "522447  d6b02f52f76dc4c22afd     Why does my brothers cow kick me all the time?\n",
              "522448  132ef601b08de269aee9            How was Japan's national animal chosen?"
            ]
          },
          "metadata": {
            "tags": []
          },
          "execution_count": 8
        }
      ]
    },
    {
      "cell_type": "code",
      "metadata": {
        "id": "Fam_8xS0X0ZC"
      },
      "source": [
        "test_ids = test_data.qid.tolist()\n",
        "test_questions = test_data.question_text.tolist()"
      ],
      "execution_count": 9,
      "outputs": []
    },
    {
      "cell_type": "code",
      "metadata": {
        "id": "PBKlT_MlX0ZH",
        "outputId": "ff57ef06-db71-4db3-998a-a59363fddcb3",
        "colab": {
          "base_uri": "https://localhost:8080/",
          "height": 70
        }
      },
      "source": [
        "print(test_ids[:5])\n",
        "print(test_questions[:5])"
      ],
      "execution_count": 10,
      "outputs": [
        {
          "output_type": "stream",
          "text": [
            "['f56a9a31974dc66186e8', 'd957c3758060f45da303', 'ad822d5abaedb9e247b9', '4e979c23eeb6a4bd1f2e', '333cc031262566b8da49']\n",
            "['Is it a good idea to go through a phlebotomy class before going into nursing school next year? Will it give me any advantage at all?', 'How can I fix a lead into a camlin compass to draw arcs, circles in engineering graphics?', 'How many animes are there in world?', 'How do I tell my family I cut?', 'How do I save down my bitcoin image address from coinbase?']\n"
          ],
          "name": "stdout"
        }
      ]
    },
    {
      "cell_type": "code",
      "metadata": {
        "id": "qU_Fae6wcbXe"
      },
      "source": [
        "from nltk.tokenize import RegexpTokenizer\n",
        "tokenizer = RegexpTokenizer(r'\\w+')\n",
        "\n",
        "train_questions_new = []\n",
        "test_questions_new = []\n",
        "\n",
        "for sample_question in train_questions:\n",
        "  sample_question_temp = sample_question.lower()\n",
        "  train_questions_new.append(tokenizer.tokenize(sample_question_temp))\n",
        "\n",
        "for sample_question in test_questions:\n",
        "  sample_question_temp = sample_question.lower()\n",
        "  test_questions_new.append(tokenizer.tokenize(sample_question_temp))"
      ],
      "execution_count": 18,
      "outputs": []
    },
    {
      "cell_type": "code",
      "metadata": {
        "id": "8VvR4KTNdO3o",
        "outputId": "cdef8a70-e08e-48d2-c69b-98f993607f97",
        "colab": {
          "base_uri": "https://localhost:8080/",
          "height": 70
        }
      },
      "source": [
        "print(train_questions_new[:5])\n",
        "print(test_questions_new[:5])"
      ],
      "execution_count": 19,
      "outputs": [
        {
          "output_type": "stream",
          "text": [
            "[['how', 'can', 'i', 'reply', 'to', 'this', 'comment', 'india', 'is', 'poor', 'it', 'is', 'a', 'fact', 'i', 'don', 't', 'understand', 'the', 'unnecessary', 'criticism', 'of', 'snapchat', 'ceo', 's', 'statement'], ['what', 'did', 'they', 'use', 'for', 'transportation', 'in', 'ancient', 'india'], ['what', 'are', 'the', 'most', 'important', 'provisions', 'of', 'obamacare'], ['at', 'what', 'age', 'do', 'most', 'finns', 'master', 'english', 'today'], ['what', 'is', 'cheapest', 'place', 'to', 'live', 'in', 'india', 'for', 'one', 'month', 'which', 'best', 'suits', 'for', 'tourism', 'also']]\n",
            "[['is', 'it', 'a', 'good', 'idea', 'to', 'go', 'through', 'a', 'phlebotomy', 'class', 'before', 'going', 'into', 'nursing', 'school', 'next', 'year', 'will', 'it', 'give', 'me', 'any', 'advantage', 'at', 'all'], ['how', 'can', 'i', 'fix', 'a', 'lead', 'into', 'a', 'camlin', 'compass', 'to', 'draw', 'arcs', 'circles', 'in', 'engineering', 'graphics'], ['how', 'many', 'animes', 'are', 'there', 'in', 'world'], ['how', 'do', 'i', 'tell', 'my', 'family', 'i', 'cut'], ['how', 'do', 'i', 'save', 'down', 'my', 'bitcoin', 'image', 'address', 'from', 'coinbase']]\n"
          ],
          "name": "stdout"
        }
      ]
    },
    {
      "cell_type": "code",
      "metadata": {
        "id": "f9CIFJofX0ZK",
        "outputId": "998d4acc-7b6a-4333-e00f-34108bc448f4",
        "colab": {
          "base_uri": "https://localhost:8080/",
          "height": 104
        }
      },
      "source": [
        "nltk.download('stopwords')\n",
        "stop_words = set(stopwords.words('english'))\n",
        "ps = PorterStemmer()\n",
        "print(stop_words)\n",
        "print(len(stop_words))"
      ],
      "execution_count": 20,
      "outputs": [
        {
          "output_type": "stream",
          "text": [
            "{'me', 'himself', 'they', 'very', 'before', 'themselves', 'wasn', 'did', 'itself', 'into', 'both', 'to', 'as', 'shan', 'or', \"she's\", 'off', 've', 'been', 'has', \"doesn't\", 'yourselves', 'doesn', 'm', 'my', 'weren', 'because', 'at', 'again', 'just', 'here', 'this', 'from', \"couldn't\", 'didn', 'there', 'isn', \"shan't\", 'by', 'which', 'through', 'what', 'against', \"don't\", 'over', 'our', 'too', 'whom', 'no', 'myself', 'he', 'your', 'but', 'ours', 'up', 'how', 'now', 'when', 'a', 'was', \"needn't\", 'that', 'theirs', 'only', 'wouldn', 'mightn', 'the', 'having', 'under', 'hadn', \"hadn't\", \"wouldn't\", 'd', 'for', \"you'll\", 'until', 'down', 'ma', \"won't\", \"shouldn't\", 'needn', 'haven', 'aren', \"haven't\", 'being', 'own', 'further', 'i', 'she', 'above', 'have', 'yours', 'few', 'any', 'hasn', \"isn't\", 'during', 'where', 'than', \"mustn't\", 'couldn', 'hers', \"hasn't\", 'then', \"mightn't\", 'had', 'same', \"it's\", 'won', 'o', 'most', 'in', 'nor', \"wasn't\", 'him', 'and', 're', 'their', 'such', 'more', 'shouldn', 'on', 'with', 'an', 'below', 's', 'not', \"you'd\", 'after', 'these', 'be', 'each', 'am', 'out', 'who', 'will', 'his', 'should', \"didn't\", \"should've\", 'while', 'is', 'don', 'we', 'her', 't', 'yourself', 'of', 'those', 'once', 'other', 'mustn', 'ourselves', \"aren't\", 'it', 'so', 'you', 'all', \"you're\", 'do', \"weren't\", 'll', 'if', 'why', 'are', 'herself', 'were', 'y', 'between', \"you've\", 'can', 'some', 'them', 'its', 'doing', 'does', 'ain', 'about', \"that'll\"}\n",
            "179\n"
          ],
          "name": "stdout"
        },
        {
          "output_type": "stream",
          "text": [
            "[nltk_data] Downloading package stopwords to /root/nltk_data...\n",
            "[nltk_data]   Package stopwords is already up-to-date!\n"
          ],
          "name": "stderr"
        }
      ]
    },
    {
      "cell_type": "code",
      "metadata": {
        "id": "uoW3QjsDX0ZO"
      },
      "source": [
        "def clean_stemm_stopwords(input_list):\n",
        "  filtered_op = []\n",
        "  \n",
        "  for words_in_temp_sample in input_list:\n",
        "    temp_sample = ''\n",
        "    for word in words_in_temp_sample:\n",
        "      if not word in stop_words:\n",
        "        temp_word = ps.stem(word)\n",
        "        temp_sample += (temp_word + ' ')\n",
        "    temp_sample = temp_sample[:-1]\n",
        "    filtered_op.append(temp_sample)\n",
        "\n",
        "  return filtered_op"
      ],
      "execution_count": 21,
      "outputs": []
    },
    {
      "cell_type": "code",
      "metadata": {
        "id": "GC-SkiNkX0ZS"
      },
      "source": [
        "train_questions_filtered = clean_stemm_stopwords(train_questions_new)\n",
        "test_questions_filtered = clean_stemm_stopwords(test_questions_new)"
      ],
      "execution_count": 22,
      "outputs": []
    },
    {
      "cell_type": "code",
      "metadata": {
        "id": "oSDz0fMmX0ZV",
        "outputId": "61f76b0f-a125-4da6-cf1e-35e2348edbae",
        "colab": {
          "base_uri": "https://localhost:8080/",
          "height": 70
        }
      },
      "source": [
        "print(train_questions_filtered[:5])\n",
        "print(test_questions_filtered[:5])"
      ],
      "execution_count": 23,
      "outputs": [
        {
          "output_type": "stream",
          "text": [
            "['repli comment india poor fact understand unnecessari critic snapchat ceo statement', 'use transport ancient india', 'import provis obamacar', 'age finn master english today', 'cheapest place live india one month best suit tourism also']\n",
            "['good idea go phlebotomi class go nurs school next year give advantag', 'fix lead camlin compass draw arc circl engin graphic', 'mani anim world', 'tell famili cut', 'save bitcoin imag address coinbas']\n"
          ],
          "name": "stdout"
        }
      ]
    },
    {
      "cell_type": "code",
      "metadata": {
        "id": "u8zql_svX0Za"
      },
      "source": [
        ""
      ],
      "execution_count": null,
      "outputs": []
    }
  ]
}