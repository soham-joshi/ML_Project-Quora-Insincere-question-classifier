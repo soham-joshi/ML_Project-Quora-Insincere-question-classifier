{
 "cells": [
  {
   "cell_type": "code",
   "execution_count": 2,
   "metadata": {},
   "outputs": [
    {
     "name": "stdout",
     "output_type": "stream",
     "text": [
      "Collecting nltk==3.4.5\n",
      "  Downloading https://files.pythonhosted.org/packages/f6/1d/d925cfb4f324ede997f6d47bea4d9babba51b49e87a767c170b77005889d/nltk-3.4.5.zip (1.5MB)\n",
      "Requirement already satisfied: six in d:\\anaconda\\lib\\site-packages (from nltk==3.4.5) (1.15.0)\n",
      "Building wheels for collected packages: nltk\n",
      "  Building wheel for nltk (setup.py): started\n",
      "  Building wheel for nltk (setup.py): finished with status 'done'\n",
      "  Created wheel for nltk: filename=nltk-3.4.5-cp38-none-any.whl size=1449912 sha256=7b9f5af723e5ebe57011fc2645ac78f62a8dcdba6c61dd43977c79ee12feb4d1\n",
      "  Stored in directory: C:\\Users\\Soham\\AppData\\Local\\pip\\Cache\\wheels\\96\\86\\f6\\68ab24c23f207c0077381a5e3904b2815136b879538a24b483\n",
      "Successfully built nltk\n"
     ]
    },
    {
     "name": "stderr",
     "output_type": "stream",
     "text": [
      "WARNING: You are using pip version 19.2.3, however version 20.2.3 is available.\n",
      "You should consider upgrading via the 'python -m pip install --upgrade pip' command.\n"
     ]
    },
    {
     "name": "stdout",
     "output_type": "stream",
     "text": [
      "Installing collected packages: nltk\n",
      "  Found existing installation: nltk 3.5\n",
      "    Uninstalling nltk-3.5:\n",
      "      Successfully uninstalled nltk-3.5\n",
      "Successfully installed nltk-3.4.5\n"
     ]
    }
   ],
   "source": [
    "!pip3 install nltk==3.4.5\n",
    "import numpy as np\n",
    "import pandas as pd\n",
    "import statistics\n",
    "import nltk\n",
    "from nltk.corpus import stopwords\n",
    "from nltk.stem import PorterStemmer"
   ]
  },
  {
   "cell_type": "code",
   "execution_count": 5,
   "metadata": {},
   "outputs": [
    {
     "data": {
      "text/html": [
       "<div>\n",
       "<style scoped>\n",
       "    .dataframe tbody tr th:only-of-type {\n",
       "        vertical-align: middle;\n",
       "    }\n",
       "\n",
       "    .dataframe tbody tr th {\n",
       "        vertical-align: top;\n",
       "    }\n",
       "\n",
       "    .dataframe thead th {\n",
       "        text-align: right;\n",
       "    }\n",
       "</style>\n",
       "<table border=\"1\" class=\"dataframe\">\n",
       "  <thead>\n",
       "    <tr style=\"text-align: right;\">\n",
       "      <th></th>\n",
       "      <th>qid</th>\n",
       "      <th>question_text</th>\n",
       "      <th>target</th>\n",
       "    </tr>\n",
       "  </thead>\n",
       "  <tbody>\n",
       "    <tr>\n",
       "      <th>0</th>\n",
       "      <td>6f47b0f60633c2056455</td>\n",
       "      <td>How can I reply to this comment, \"India is poo...</td>\n",
       "      <td>0</td>\n",
       "    </tr>\n",
       "    <tr>\n",
       "      <th>1</th>\n",
       "      <td>d49b3966070b27bf07fc</td>\n",
       "      <td>What did they use for transportation in Ancien...</td>\n",
       "      <td>0</td>\n",
       "    </tr>\n",
       "    <tr>\n",
       "      <th>2</th>\n",
       "      <td>6d5faa49380557c8ca7b</td>\n",
       "      <td>What are the most important provisions of Obam...</td>\n",
       "      <td>0</td>\n",
       "    </tr>\n",
       "    <tr>\n",
       "      <th>3</th>\n",
       "      <td>cebea75faa47388edcf5</td>\n",
       "      <td>At what age do most Finns master English today?</td>\n",
       "      <td>0</td>\n",
       "    </tr>\n",
       "    <tr>\n",
       "      <th>4</th>\n",
       "      <td>2a7b76a679cadb0a016e</td>\n",
       "      <td>What is cheapest place to live in India for on...</td>\n",
       "      <td>0</td>\n",
       "    </tr>\n",
       "  </tbody>\n",
       "</table>\n",
       "</div>"
      ],
      "text/plain": [
       "                    qid                                      question_text  \\\n",
       "0  6f47b0f60633c2056455  How can I reply to this comment, \"India is poo...   \n",
       "1  d49b3966070b27bf07fc  What did they use for transportation in Ancien...   \n",
       "2  6d5faa49380557c8ca7b  What are the most important provisions of Obam...   \n",
       "3  cebea75faa47388edcf5    At what age do most Finns master English today?   \n",
       "4  2a7b76a679cadb0a016e  What is cheapest place to live in India for on...   \n",
       "\n",
       "   target  \n",
       "0       0  \n",
       "1       0  \n",
       "2       0  \n",
       "3       0  \n",
       "4       0  "
      ]
     },
     "execution_count": 5,
     "metadata": {},
     "output_type": "execute_result"
    }
   ],
   "source": [
    "train_col_names = ['qid', 'question_text', 'target']\n",
    "train_data = pd.read_csv('train.csv', names=train_col_names, skiprows=1)\n",
    "train_data.head()"
   ]
  },
  {
   "cell_type": "code",
   "execution_count": 6,
   "metadata": {},
   "outputs": [
    {
     "data": {
      "text/html": [
       "<div>\n",
       "<style scoped>\n",
       "    .dataframe tbody tr th:only-of-type {\n",
       "        vertical-align: middle;\n",
       "    }\n",
       "\n",
       "    .dataframe tbody tr th {\n",
       "        vertical-align: top;\n",
       "    }\n",
       "\n",
       "    .dataframe thead th {\n",
       "        text-align: right;\n",
       "    }\n",
       "</style>\n",
       "<table border=\"1\" class=\"dataframe\">\n",
       "  <thead>\n",
       "    <tr style=\"text-align: right;\">\n",
       "      <th></th>\n",
       "      <th>qid</th>\n",
       "      <th>question_text</th>\n",
       "      <th>target</th>\n",
       "    </tr>\n",
       "  </thead>\n",
       "  <tbody>\n",
       "    <tr>\n",
       "      <th>783668</th>\n",
       "      <td>8462d2ead608fe1dcf9b</td>\n",
       "      <td>What causes a lump on the back of your head?</td>\n",
       "      <td>0</td>\n",
       "    </tr>\n",
       "    <tr>\n",
       "      <th>783669</th>\n",
       "      <td>12d225a4e28317c02151</td>\n",
       "      <td>What is standalone in simple way?</td>\n",
       "      <td>0</td>\n",
       "    </tr>\n",
       "    <tr>\n",
       "      <th>783670</th>\n",
       "      <td>03edc045cadbb11558dd</td>\n",
       "      <td>How do you prevent having low potassium while ...</td>\n",
       "      <td>0</td>\n",
       "    </tr>\n",
       "    <tr>\n",
       "      <th>783671</th>\n",
       "      <td>c6fb7dc8d0b34160dbe4</td>\n",
       "      <td>What is it like to meet the band Imagine Dragons?</td>\n",
       "      <td>0</td>\n",
       "    </tr>\n",
       "    <tr>\n",
       "      <th>783672</th>\n",
       "      <td>6a58b525dc9ccaf25b72</td>\n",
       "      <td>How can I find an intelligent, well reasoned p...</td>\n",
       "      <td>1</td>\n",
       "    </tr>\n",
       "  </tbody>\n",
       "</table>\n",
       "</div>"
      ],
      "text/plain": [
       "                         qid  \\\n",
       "783668  8462d2ead608fe1dcf9b   \n",
       "783669  12d225a4e28317c02151   \n",
       "783670  03edc045cadbb11558dd   \n",
       "783671  c6fb7dc8d0b34160dbe4   \n",
       "783672  6a58b525dc9ccaf25b72   \n",
       "\n",
       "                                            question_text  target  \n",
       "783668       What causes a lump on the back of your head?       0  \n",
       "783669                  What is standalone in simple way?       0  \n",
       "783670  How do you prevent having low potassium while ...       0  \n",
       "783671  What is it like to meet the band Imagine Dragons?       0  \n",
       "783672  How can I find an intelligent, well reasoned p...       1  "
      ]
     },
     "execution_count": 6,
     "metadata": {},
     "output_type": "execute_result"
    }
   ],
   "source": [
    "train_data.tail()"
   ]
  },
  {
   "cell_type": "code",
   "execution_count": 7,
   "metadata": {},
   "outputs": [],
   "source": [
    "train_ids = train_data.qid.tolist()\n",
    "train_questions = train_data.question_text.tolist()"
   ]
  },
  {
   "cell_type": "code",
   "execution_count": 8,
   "metadata": {},
   "outputs": [],
   "source": [
    "train_labels = train_data.target.values.tolist()"
   ]
  },
  {
   "cell_type": "code",
   "execution_count": 9,
   "metadata": {},
   "outputs": [
    {
     "name": "stdout",
     "output_type": "stream",
     "text": [
      "['6f47b0f60633c2056455', 'd49b3966070b27bf07fc', '6d5faa49380557c8ca7b', 'cebea75faa47388edcf5', '2a7b76a679cadb0a016e']\n",
      "['How can I reply to this comment, \"India is poor. It is a fact. I don\\'t understand the unnecessary criticism of Snapchat CEO\\'s statement\"?', 'What did they use for transportation in Ancient India?', 'What are the most important provisions of Obamacare?', 'At what age do most Finns master English today?', 'What is cheapest place to live in India for one month which best suits for tourism also?']\n",
      "[0, 0, 0, 0, 0]\n"
     ]
    }
   ],
   "source": [
    "print(train_ids[:5])\n",
    "print(train_questions[:5])\n",
    "print(train_labels[:5])"
   ]
  },
  {
   "cell_type": "code",
   "execution_count": 10,
   "metadata": {},
   "outputs": [
    {
     "data": {
      "text/html": [
       "<div>\n",
       "<style scoped>\n",
       "    .dataframe tbody tr th:only-of-type {\n",
       "        vertical-align: middle;\n",
       "    }\n",
       "\n",
       "    .dataframe tbody tr th {\n",
       "        vertical-align: top;\n",
       "    }\n",
       "\n",
       "    .dataframe thead th {\n",
       "        text-align: right;\n",
       "    }\n",
       "</style>\n",
       "<table border=\"1\" class=\"dataframe\">\n",
       "  <thead>\n",
       "    <tr style=\"text-align: right;\">\n",
       "      <th></th>\n",
       "      <th>qid</th>\n",
       "      <th>question_text</th>\n",
       "    </tr>\n",
       "  </thead>\n",
       "  <tbody>\n",
       "    <tr>\n",
       "      <th>0</th>\n",
       "      <td>f56a9a31974dc66186e8</td>\n",
       "      <td>Is it a good idea to go through a phlebotomy c...</td>\n",
       "    </tr>\n",
       "    <tr>\n",
       "      <th>1</th>\n",
       "      <td>d957c3758060f45da303</td>\n",
       "      <td>How can I fix a lead into a camlin compass to ...</td>\n",
       "    </tr>\n",
       "    <tr>\n",
       "      <th>2</th>\n",
       "      <td>ad822d5abaedb9e247b9</td>\n",
       "      <td>How many animes are there in world?</td>\n",
       "    </tr>\n",
       "    <tr>\n",
       "      <th>3</th>\n",
       "      <td>4e979c23eeb6a4bd1f2e</td>\n",
       "      <td>How do I tell my family I cut?</td>\n",
       "    </tr>\n",
       "    <tr>\n",
       "      <th>4</th>\n",
       "      <td>333cc031262566b8da49</td>\n",
       "      <td>How do I save down my bitcoin image address fr...</td>\n",
       "    </tr>\n",
       "  </tbody>\n",
       "</table>\n",
       "</div>"
      ],
      "text/plain": [
       "                    qid                                      question_text\n",
       "0  f56a9a31974dc66186e8  Is it a good idea to go through a phlebotomy c...\n",
       "1  d957c3758060f45da303  How can I fix a lead into a camlin compass to ...\n",
       "2  ad822d5abaedb9e247b9                How many animes are there in world?\n",
       "3  4e979c23eeb6a4bd1f2e                     How do I tell my family I cut?\n",
       "4  333cc031262566b8da49  How do I save down my bitcoin image address fr..."
      ]
     },
     "execution_count": 10,
     "metadata": {},
     "output_type": "execute_result"
    }
   ],
   "source": [
    "test_col_names = ['qid', 'question_text']\n",
    "test_data = pd.read_csv('test.csv', names=test_col_names, skiprows=1)\n",
    "test_data.head()"
   ]
  },
  {
   "cell_type": "code",
   "execution_count": 11,
   "metadata": {},
   "outputs": [
    {
     "data": {
      "text/html": [
       "<div>\n",
       "<style scoped>\n",
       "    .dataframe tbody tr th:only-of-type {\n",
       "        vertical-align: middle;\n",
       "    }\n",
       "\n",
       "    .dataframe tbody tr th {\n",
       "        vertical-align: top;\n",
       "    }\n",
       "\n",
       "    .dataframe thead th {\n",
       "        text-align: right;\n",
       "    }\n",
       "</style>\n",
       "<table border=\"1\" class=\"dataframe\">\n",
       "  <thead>\n",
       "    <tr style=\"text-align: right;\">\n",
       "      <th></th>\n",
       "      <th>qid</th>\n",
       "      <th>question_text</th>\n",
       "    </tr>\n",
       "  </thead>\n",
       "  <tbody>\n",
       "    <tr>\n",
       "      <th>522444</th>\n",
       "      <td>e8e6aa5226f36c27fe41</td>\n",
       "      <td>In terms of absolute passion and leadership, w...</td>\n",
       "    </tr>\n",
       "    <tr>\n",
       "      <th>522445</th>\n",
       "      <td>015fd068afcb9d0b4007</td>\n",
       "      <td>How do I make my orthodox Indian parents accep...</td>\n",
       "    </tr>\n",
       "    <tr>\n",
       "      <th>522446</th>\n",
       "      <td>9f0ef49eff6a3ff9e735</td>\n",
       "      <td>How can air force officers go to ranger school?</td>\n",
       "    </tr>\n",
       "    <tr>\n",
       "      <th>522447</th>\n",
       "      <td>d6b02f52f76dc4c22afd</td>\n",
       "      <td>Why does my brothers cow kick me all the time?</td>\n",
       "    </tr>\n",
       "    <tr>\n",
       "      <th>522448</th>\n",
       "      <td>132ef601b08de269aee9</td>\n",
       "      <td>How was Japan's national animal chosen?</td>\n",
       "    </tr>\n",
       "  </tbody>\n",
       "</table>\n",
       "</div>"
      ],
      "text/plain": [
       "                         qid  \\\n",
       "522444  e8e6aa5226f36c27fe41   \n",
       "522445  015fd068afcb9d0b4007   \n",
       "522446  9f0ef49eff6a3ff9e735   \n",
       "522447  d6b02f52f76dc4c22afd   \n",
       "522448  132ef601b08de269aee9   \n",
       "\n",
       "                                            question_text  \n",
       "522444  In terms of absolute passion and leadership, w...  \n",
       "522445  How do I make my orthodox Indian parents accep...  \n",
       "522446    How can air force officers go to ranger school?  \n",
       "522447     Why does my brothers cow kick me all the time?  \n",
       "522448            How was Japan's national animal chosen?  "
      ]
     },
     "execution_count": 11,
     "metadata": {},
     "output_type": "execute_result"
    }
   ],
   "source": [
    "test_data.tail()"
   ]
  },
  {
   "cell_type": "code",
   "execution_count": 13,
   "metadata": {},
   "outputs": [],
   "source": [
    "test_ids = test_data.qid.tolist()\n",
    "test_questions = test_data.question_text.tolist()"
   ]
  },
  {
   "cell_type": "code",
   "execution_count": 14,
   "metadata": {},
   "outputs": [
    {
     "name": "stdout",
     "output_type": "stream",
     "text": [
      "['f56a9a31974dc66186e8', 'd957c3758060f45da303', 'ad822d5abaedb9e247b9', '4e979c23eeb6a4bd1f2e', '333cc031262566b8da49']\n",
      "['Is it a good idea to go through a phlebotomy class before going into nursing school next year? Will it give me any advantage at all?', 'How can I fix a lead into a camlin compass to draw arcs, circles in engineering graphics?', 'How many animes are there in world?', 'How do I tell my family I cut?', 'How do I save down my bitcoin image address from coinbase?']\n"
     ]
    }
   ],
   "source": [
    "print(test_ids[:5])\n",
    "print(test_questions[:5])"
   ]
  },
  {
   "cell_type": "code",
   "execution_count": 19,
   "metadata": {},
   "outputs": [
    {
     "name": "stdout",
     "output_type": "stream",
     "text": [
      "{'him', 'any', 'at', 'through', 'again', 'had', 'where', 'ours', \"it's\", 'few', \"isn't\", 'ma', 'hasn', 'didn', 'me', 'them', 'i', 'being', 'what', 'during', 'against', 'down', 'in', \"don't\", 're', \"mightn't\", 'here', 'under', 'your', 'did', 's', 'those', 'over', 'wasn', 'same', 'ourselves', 'the', \"wasn't\", \"hasn't\", 'until', 'we', 'but', 'will', 'by', 'more', 'so', 'needn', \"haven't\", 'are', 'below', 'of', 'too', 'have', 'it', 'how', \"she's\", \"won't\", 'aren', \"aren't\", 'very', 'a', 'my', 'further', 'this', 'haven', 'themselves', 'both', 'don', 'their', 'her', 'some', \"needn't\", 'll', \"wouldn't\", \"couldn't\", 'for', 'while', 'is', 'd', \"hadn't\", 'because', 'who', 'shouldn', 'weren', 'yourself', 't', 'can', \"mustn't\", 'there', \"you're\", 'myself', 'doing', 'these', 'on', 'such', 'between', 'from', 'hers', 'why', 'having', \"you'll\", 'mustn', 'does', 'doesn', 'once', 'not', 'own', 'his', 'wouldn', 'y', 've', 'be', 'won', 'shan', \"weren't\", 'was', 'only', 'isn', 'were', 'has', 'about', 'hadn', 'herself', 'then', 'himself', 'he', 'nor', 'our', 'an', 'now', \"didn't\", \"should've\", 'that', 'been', 'off', 'ain', 'theirs', 'when', 'after', 'no', 'as', 'couldn', 'itself', 'out', 'mightn', \"shouldn't\", 'do', 'yourselves', \"shan't\", 'am', 'into', 'each', 'all', 'you', 'if', 'before', 'just', 'm', 'should', 'yours', \"you've\", 'above', 'than', 'to', 'most', 'up', \"you'd\", 'or', 'with', \"that'll\", 'and', 'other', 'whom', 'she', 'o', 'which', 'its', 'they', \"doesn't\"}\n",
      "179\n"
     ]
    },
    {
     "name": "stderr",
     "output_type": "stream",
     "text": [
      "[nltk_data] Downloading package stopwords to\n",
      "[nltk_data]     C:\\Users\\Soham\\AppData\\Roaming\\nltk_data...\n",
      "[nltk_data]   Package stopwords is already up-to-date!\n"
     ]
    }
   ],
   "source": [
    "nltk.download('stopwords')\n",
    "stop_words = set(stopwords.words('english'))\n",
    "ps = PorterStemmer()\n",
    "print(stop_words)\n",
    "print(len(stop_words))"
   ]
  },
  {
   "cell_type": "code",
   "execution_count": 20,
   "metadata": {},
   "outputs": [],
   "source": [
    "def clean_stemm_stopwords(input_list):\n",
    "  filtered_op = []\n",
    "  \n",
    "  for sample in input_list:\n",
    "    temp_sample = ''\n",
    "    words_in_temp_sample = sample.split()\n",
    "    for word in words_in_temp_sample:\n",
    "      if not word in stop_words:\n",
    "        temp_word = ps.stem(word)\n",
    "        temp_sample += (temp_word + ' ')\n",
    "    filtered_op.append(temp_sample)\n",
    "\n",
    "  return filtered_op"
   ]
  },
  {
   "cell_type": "code",
   "execution_count": 24,
   "metadata": {},
   "outputs": [],
   "source": [
    "train_questions_filtered = clean_stemm_stopwords(train_questions)\n",
    "test_questions_filtered = clean_stemm_stopwords(test_questions)"
   ]
  },
  {
   "cell_type": "code",
   "execution_count": 25,
   "metadata": {},
   "outputs": [
    {
     "name": "stdout",
     "output_type": "stream",
     "text": [
      "['how I repli comment, \"india poor. It fact. I understand unnecessari critic snapchat ceo\\' statement\"? ', 'what use transport ancient india? ', 'what import provis obamacare? ', 'At age finn master english today? ', 'what cheapest place live india one month best suit tourism also? ']\n",
      "['Is good idea go phlebotomi class go nurs school next year? will give advantag all? ', 'how I fix lead camlin compass draw arcs, circl engin graphics? ', 'how mani anim world? ', 'how I tell famili I cut? ', 'how I save bitcoin imag address coinbase? ']\n"
     ]
    }
   ],
   "source": [
    "print(train_questions_filtered[:5])\n",
    "print(test_questions_filtered[:5])"
   ]
  },
  {
   "cell_type": "code",
   "execution_count": null,
   "metadata": {},
   "outputs": [],
   "source": []
  }
 ],
 "metadata": {
  "kernelspec": {
   "display_name": "Python 3",
   "language": "python",
   "name": "python3"
  },
  "language_info": {
   "codemirror_mode": {
    "name": "ipython",
    "version": 3
   },
   "file_extension": ".py",
   "mimetype": "text/x-python",
   "name": "python",
   "nbconvert_exporter": "python",
   "pygments_lexer": "ipython3",
   "version": "3.8.3"
  }
 },
 "nbformat": 4,
 "nbformat_minor": 4
}
